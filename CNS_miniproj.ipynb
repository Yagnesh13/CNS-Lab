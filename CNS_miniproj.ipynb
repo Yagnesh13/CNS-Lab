{
  "nbformat": 4,
  "nbformat_minor": 0,
  "metadata": {
    "colab": {
      "provenance": [],
      "collapsed_sections": [
        "IexdF4earQzu"
      ]
    },
    "kernelspec": {
      "name": "python3",
      "display_name": "Python 3"
    },
    "language_info": {
      "name": "python"
    }
  },
  "cells": [
    {
      "cell_type": "markdown",
      "metadata": {
        "id": "Ov1WtpVNT09f"
      },
      "source": [
        "# **Malicious URL Detection**\n",
        "**Sardar Patel Institute of Technology, Mumbai**\n",
        "\n",
        "**ETEL72A Cryptography and Network Security Lab**\n",
        "\n",
        "**BE EXTC 2021-2022**\n",
        "\n",
        "**Mini Project**\n",
        "\n",
        "**Harsh Dungrani 2018120020**\n",
        "\n",
        "**Yagnesh Gotad 2018120023**"
      ]
    },
    {
      "cell_type": "code",
      "metadata": {
        "colab": {
          "base_uri": "https://localhost:8080/"
        },
        "id": "h2GZ1wyxZvOn",
        "outputId": "19e67122-a4ec-4adf-ab44-4330810892c7"
      },
      "source": [
        "!pip install tld"
      ],
      "execution_count": null,
      "outputs": [
        {
          "output_type": "stream",
          "name": "stdout",
          "text": [
            "Collecting tld\n",
            "  Downloading tld-0.12.6-py37-none-any.whl (412 kB)\n",
            "\u001b[?25l\r\u001b[K     |▉                               | 10 kB 23.5 MB/s eta 0:00:01\r\u001b[K     |█▋                              | 20 kB 29.8 MB/s eta 0:00:01\r\u001b[K     |██▍                             | 30 kB 16.1 MB/s eta 0:00:01\r\u001b[K     |███▏                            | 40 kB 11.7 MB/s eta 0:00:01\r\u001b[K     |████                            | 51 kB 5.4 MB/s eta 0:00:01\r\u001b[K     |████▊                           | 61 kB 5.7 MB/s eta 0:00:01\r\u001b[K     |█████▋                          | 71 kB 5.1 MB/s eta 0:00:01\r\u001b[K     |██████▍                         | 81 kB 5.7 MB/s eta 0:00:01\r\u001b[K     |███████▏                        | 92 kB 5.8 MB/s eta 0:00:01\r\u001b[K     |████████                        | 102 kB 5.1 MB/s eta 0:00:01\r\u001b[K     |████████▊                       | 112 kB 5.1 MB/s eta 0:00:01\r\u001b[K     |█████████▌                      | 122 kB 5.1 MB/s eta 0:00:01\r\u001b[K     |██████████▍                     | 133 kB 5.1 MB/s eta 0:00:01\r\u001b[K     |███████████▏                    | 143 kB 5.1 MB/s eta 0:00:01\r\u001b[K     |████████████                    | 153 kB 5.1 MB/s eta 0:00:01\r\u001b[K     |████████████▊                   | 163 kB 5.1 MB/s eta 0:00:01\r\u001b[K     |█████████████▌                  | 174 kB 5.1 MB/s eta 0:00:01\r\u001b[K     |██████████████▎                 | 184 kB 5.1 MB/s eta 0:00:01\r\u001b[K     |███████████████                 | 194 kB 5.1 MB/s eta 0:00:01\r\u001b[K     |████████████████                | 204 kB 5.1 MB/s eta 0:00:01\r\u001b[K     |████████████████▊               | 215 kB 5.1 MB/s eta 0:00:01\r\u001b[K     |█████████████████▌              | 225 kB 5.1 MB/s eta 0:00:01\r\u001b[K     |██████████████████▎             | 235 kB 5.1 MB/s eta 0:00:01\r\u001b[K     |███████████████████             | 245 kB 5.1 MB/s eta 0:00:01\r\u001b[K     |███████████████████▉            | 256 kB 5.1 MB/s eta 0:00:01\r\u001b[K     |████████████████████▊           | 266 kB 5.1 MB/s eta 0:00:01\r\u001b[K     |█████████████████████▌          | 276 kB 5.1 MB/s eta 0:00:01\r\u001b[K     |██████████████████████▎         | 286 kB 5.1 MB/s eta 0:00:01\r\u001b[K     |███████████████████████         | 296 kB 5.1 MB/s eta 0:00:01\r\u001b[K     |███████████████████████▉        | 307 kB 5.1 MB/s eta 0:00:01\r\u001b[K     |████████████████████████▋       | 317 kB 5.1 MB/s eta 0:00:01\r\u001b[K     |█████████████████████████▍      | 327 kB 5.1 MB/s eta 0:00:01\r\u001b[K     |██████████████████████████▎     | 337 kB 5.1 MB/s eta 0:00:01\r\u001b[K     |███████████████████████████     | 348 kB 5.1 MB/s eta 0:00:01\r\u001b[K     |███████████████████████████▉    | 358 kB 5.1 MB/s eta 0:00:01\r\u001b[K     |████████████████████████████▋   | 368 kB 5.1 MB/s eta 0:00:01\r\u001b[K     |█████████████████████████████▍  | 378 kB 5.1 MB/s eta 0:00:01\r\u001b[K     |██████████████████████████████▏ | 389 kB 5.1 MB/s eta 0:00:01\r\u001b[K     |███████████████████████████████ | 399 kB 5.1 MB/s eta 0:00:01\r\u001b[K     |███████████████████████████████▉| 409 kB 5.1 MB/s eta 0:00:01\r\u001b[K     |████████████████████████████████| 412 kB 5.1 MB/s \n",
            "\u001b[?25hInstalling collected packages: tld\n",
            "Successfully installed tld-0.12.6\n"
          ]
        }
      ]
    },
    {
      "cell_type": "code",
      "metadata": {
        "id": "JQ0Ul7drT3Cl"
      },
      "source": [
        "import numpy as np\n",
        "import pandas as pd\n",
        "import matplotlib.pyplot as plt\n",
        "import seaborn as sns\n",
        "from urllib.parse import urlparse\n",
        "from tld import get_tld\n",
        "from sklearn.model_selection import train_test_split\n",
        "from sklearn.metrics import accuracy_score\n",
        "from sklearn.metrics import recall_score\n",
        "from sklearn.metrics import precision_score\n",
        "from sklearn.metrics import f1_score\n",
        "from sklearn.metrics import roc_auc_score"
      ],
      "execution_count": null,
      "outputs": []
    },
    {
      "cell_type": "code",
      "metadata": {
        "colab": {
          "base_uri": "https://localhost:8080/",
          "height": 206
        },
        "id": "h0pKTpVXWY5p",
        "outputId": "1f86f17a-fe11-472e-ce8c-3867d51e7562"
      },
      "source": [
        "urldata = pd.read_csv(\"urldata.csv\")\n",
        "urldata.head()"
      ],
      "execution_count": null,
      "outputs": [
        {
          "output_type": "execute_result",
          "data": {
            "text/html": [
              "<div>\n",
              "<style scoped>\n",
              "    .dataframe tbody tr th:only-of-type {\n",
              "        vertical-align: middle;\n",
              "    }\n",
              "\n",
              "    .dataframe tbody tr th {\n",
              "        vertical-align: top;\n",
              "    }\n",
              "\n",
              "    .dataframe thead th {\n",
              "        text-align: right;\n",
              "    }\n",
              "</style>\n",
              "<table border=\"1\" class=\"dataframe\">\n",
              "  <thead>\n",
              "    <tr style=\"text-align: right;\">\n",
              "      <th></th>\n",
              "      <th>Unnamed: 0</th>\n",
              "      <th>url</th>\n",
              "      <th>label</th>\n",
              "      <th>result</th>\n",
              "    </tr>\n",
              "  </thead>\n",
              "  <tbody>\n",
              "    <tr>\n",
              "      <th>0</th>\n",
              "      <td>0</td>\n",
              "      <td>https://www.google.com</td>\n",
              "      <td>benign</td>\n",
              "      <td>0</td>\n",
              "    </tr>\n",
              "    <tr>\n",
              "      <th>1</th>\n",
              "      <td>1</td>\n",
              "      <td>https://www.youtube.com</td>\n",
              "      <td>benign</td>\n",
              "      <td>0</td>\n",
              "    </tr>\n",
              "    <tr>\n",
              "      <th>2</th>\n",
              "      <td>2</td>\n",
              "      <td>https://www.facebook.com</td>\n",
              "      <td>benign</td>\n",
              "      <td>0</td>\n",
              "    </tr>\n",
              "    <tr>\n",
              "      <th>3</th>\n",
              "      <td>3</td>\n",
              "      <td>https://www.baidu.com</td>\n",
              "      <td>benign</td>\n",
              "      <td>0</td>\n",
              "    </tr>\n",
              "    <tr>\n",
              "      <th>4</th>\n",
              "      <td>4</td>\n",
              "      <td>https://www.wikipedia.org</td>\n",
              "      <td>benign</td>\n",
              "      <td>0</td>\n",
              "    </tr>\n",
              "  </tbody>\n",
              "</table>\n",
              "</div>"
            ],
            "text/plain": [
              "   Unnamed: 0                        url   label  result\n",
              "0           0     https://www.google.com  benign       0\n",
              "1           1    https://www.youtube.com  benign       0\n",
              "2           2   https://www.facebook.com  benign       0\n",
              "3           3      https://www.baidu.com  benign       0\n",
              "4           4  https://www.wikipedia.org  benign       0"
            ]
          },
          "metadata": {},
          "execution_count": 3
        }
      ]
    },
    {
      "cell_type": "code",
      "metadata": {
        "colab": {
          "base_uri": "https://localhost:8080/"
        },
        "id": "eCuCTQOPWk2E",
        "outputId": "ba2030ef-e9be-49e6-9945-41222e7faa07"
      },
      "source": [
        "urldata.isnull().sum()"
      ],
      "execution_count": null,
      "outputs": [
        {
          "output_type": "execute_result",
          "data": {
            "text/plain": [
              "Unnamed: 0    0\n",
              "url           0\n",
              "label         0\n",
              "result        0\n",
              "dtype: int64"
            ]
          },
          "metadata": {},
          "execution_count": 4
        }
      ]
    },
    {
      "cell_type": "code",
      "metadata": {
        "colab": {
          "base_uri": "https://localhost:8080/",
          "height": 206
        },
        "id": "p1hdKsREWbIh",
        "outputId": "a2441637-bd2d-4d18-e123-84a48a30a778"
      },
      "source": [
        "urldata = urldata.drop('Unnamed: 0',axis=1)\n",
        "urldata.head()"
      ],
      "execution_count": null,
      "outputs": [
        {
          "output_type": "execute_result",
          "data": {
            "text/html": [
              "<div>\n",
              "<style scoped>\n",
              "    .dataframe tbody tr th:only-of-type {\n",
              "        vertical-align: middle;\n",
              "    }\n",
              "\n",
              "    .dataframe tbody tr th {\n",
              "        vertical-align: top;\n",
              "    }\n",
              "\n",
              "    .dataframe thead th {\n",
              "        text-align: right;\n",
              "    }\n",
              "</style>\n",
              "<table border=\"1\" class=\"dataframe\">\n",
              "  <thead>\n",
              "    <tr style=\"text-align: right;\">\n",
              "      <th></th>\n",
              "      <th>url</th>\n",
              "      <th>label</th>\n",
              "      <th>result</th>\n",
              "    </tr>\n",
              "  </thead>\n",
              "  <tbody>\n",
              "    <tr>\n",
              "      <th>0</th>\n",
              "      <td>https://www.google.com</td>\n",
              "      <td>benign</td>\n",
              "      <td>0</td>\n",
              "    </tr>\n",
              "    <tr>\n",
              "      <th>1</th>\n",
              "      <td>https://www.youtube.com</td>\n",
              "      <td>benign</td>\n",
              "      <td>0</td>\n",
              "    </tr>\n",
              "    <tr>\n",
              "      <th>2</th>\n",
              "      <td>https://www.facebook.com</td>\n",
              "      <td>benign</td>\n",
              "      <td>0</td>\n",
              "    </tr>\n",
              "    <tr>\n",
              "      <th>3</th>\n",
              "      <td>https://www.baidu.com</td>\n",
              "      <td>benign</td>\n",
              "      <td>0</td>\n",
              "    </tr>\n",
              "    <tr>\n",
              "      <th>4</th>\n",
              "      <td>https://www.wikipedia.org</td>\n",
              "      <td>benign</td>\n",
              "      <td>0</td>\n",
              "    </tr>\n",
              "  </tbody>\n",
              "</table>\n",
              "</div>"
            ],
            "text/plain": [
              "                         url   label  result\n",
              "0     https://www.google.com  benign       0\n",
              "1    https://www.youtube.com  benign       0\n",
              "2   https://www.facebook.com  benign       0\n",
              "3      https://www.baidu.com  benign       0\n",
              "4  https://www.wikipedia.org  benign       0"
            ]
          },
          "metadata": {},
          "execution_count": 5
        }
      ]
    },
    {
      "cell_type": "code",
      "metadata": {
        "colab": {
          "base_uri": "https://localhost:8080/"
        },
        "id": "Ei14cn19Wgke",
        "outputId": "9132e8c5-73b5-4f0e-f0c4-6baf376297d9"
      },
      "source": [
        "urldata.shape"
      ],
      "execution_count": null,
      "outputs": [
        {
          "output_type": "execute_result",
          "data": {
            "text/plain": [
              "(450176, 3)"
            ]
          },
          "metadata": {},
          "execution_count": 6
        }
      ]
    },
    {
      "cell_type": "code",
      "metadata": {
        "colab": {
          "base_uri": "https://localhost:8080/"
        },
        "id": "XoB0p2TwW0uP",
        "outputId": "b5595e64-cf32-4401-ff4f-703f22e4ad0d"
      },
      "source": [
        "urldata.info()"
      ],
      "execution_count": null,
      "outputs": [
        {
          "output_type": "stream",
          "name": "stdout",
          "text": [
            "<class 'pandas.core.frame.DataFrame'>\n",
            "RangeIndex: 450176 entries, 0 to 450175\n",
            "Data columns (total 3 columns):\n",
            " #   Column  Non-Null Count   Dtype \n",
            "---  ------  --------------   ----- \n",
            " 0   url     450176 non-null  object\n",
            " 1   label   450176 non-null  object\n",
            " 2   result  450176 non-null  int64 \n",
            "dtypes: int64(1), object(2)\n",
            "memory usage: 10.3+ MB\n"
          ]
        }
      ]
    },
    {
      "cell_type": "code",
      "metadata": {
        "id": "XpVeo7tFXcTD"
      },
      "source": [],
      "execution_count": null,
      "outputs": []
    },
    {
      "cell_type": "code",
      "metadata": {
        "id": "Po0dfgtrW1pt"
      },
      "source": [],
      "execution_count": null,
      "outputs": []
    },
    {
      "cell_type": "code",
      "metadata": {
        "id": "1Tb7fSb9XIvu"
      },
      "source": [
        "#Length of URL\n",
        "urldata['url_length'] = urldata['url'].apply(lambda i: len(str(i)))\n",
        "\n",
        "#Hostname Length\n",
        "urldata['hostname_length'] = urldata['url'].apply(lambda i: len(urlparse(i).netloc))\n",
        "\n",
        "#Path Length\n",
        "urldata['path_length'] = urldata['url'].apply(lambda i: len(urlparse(i).path))\n",
        "\n",
        "#First Directory Length\n",
        "def fd_length(url):\n",
        "    urlpath= urlparse(url).path\n",
        "    try:\n",
        "        return len(urlpath.split('/')[1])\n",
        "    except:\n",
        "        return 0\n",
        "\n",
        "urldata['fd_length'] = urldata['url'].apply(lambda i: fd_length(i))\n",
        "\n",
        "#Length of Top Level Domain\n",
        "urldata['tld'] = urldata['url'].apply(lambda i: get_tld(i,fail_silently=True))\n",
        "def tld_length(tld):\n",
        "    try:\n",
        "        return len(tld)\n",
        "    except:\n",
        "        return -1\n",
        "\n",
        "urldata['tld_length'] = urldata['tld'].apply(lambda i: tld_length(i))\n"
      ],
      "execution_count": null,
      "outputs": []
    },
    {
      "cell_type": "code",
      "metadata": {
        "colab": {
          "base_uri": "https://localhost:8080/",
          "height": 206
        },
        "id": "e6p6JwYeXj5n",
        "outputId": "bfbd8a58-fdbf-4c89-aee1-5292ce4b1b52"
      },
      "source": [
        "urldata.head()"
      ],
      "execution_count": null,
      "outputs": [
        {
          "output_type": "execute_result",
          "data": {
            "text/html": [
              "<div>\n",
              "<style scoped>\n",
              "    .dataframe tbody tr th:only-of-type {\n",
              "        vertical-align: middle;\n",
              "    }\n",
              "\n",
              "    .dataframe tbody tr th {\n",
              "        vertical-align: top;\n",
              "    }\n",
              "\n",
              "    .dataframe thead th {\n",
              "        text-align: right;\n",
              "    }\n",
              "</style>\n",
              "<table border=\"1\" class=\"dataframe\">\n",
              "  <thead>\n",
              "    <tr style=\"text-align: right;\">\n",
              "      <th></th>\n",
              "      <th>url</th>\n",
              "      <th>label</th>\n",
              "      <th>result</th>\n",
              "      <th>url_length</th>\n",
              "      <th>hostname_length</th>\n",
              "      <th>path_length</th>\n",
              "      <th>fd_length</th>\n",
              "      <th>tld</th>\n",
              "      <th>tld_length</th>\n",
              "    </tr>\n",
              "  </thead>\n",
              "  <tbody>\n",
              "    <tr>\n",
              "      <th>0</th>\n",
              "      <td>https://www.google.com</td>\n",
              "      <td>benign</td>\n",
              "      <td>0</td>\n",
              "      <td>22</td>\n",
              "      <td>14</td>\n",
              "      <td>0</td>\n",
              "      <td>0</td>\n",
              "      <td>com</td>\n",
              "      <td>3</td>\n",
              "    </tr>\n",
              "    <tr>\n",
              "      <th>1</th>\n",
              "      <td>https://www.youtube.com</td>\n",
              "      <td>benign</td>\n",
              "      <td>0</td>\n",
              "      <td>23</td>\n",
              "      <td>15</td>\n",
              "      <td>0</td>\n",
              "      <td>0</td>\n",
              "      <td>com</td>\n",
              "      <td>3</td>\n",
              "    </tr>\n",
              "    <tr>\n",
              "      <th>2</th>\n",
              "      <td>https://www.facebook.com</td>\n",
              "      <td>benign</td>\n",
              "      <td>0</td>\n",
              "      <td>24</td>\n",
              "      <td>16</td>\n",
              "      <td>0</td>\n",
              "      <td>0</td>\n",
              "      <td>com</td>\n",
              "      <td>3</td>\n",
              "    </tr>\n",
              "    <tr>\n",
              "      <th>3</th>\n",
              "      <td>https://www.baidu.com</td>\n",
              "      <td>benign</td>\n",
              "      <td>0</td>\n",
              "      <td>21</td>\n",
              "      <td>13</td>\n",
              "      <td>0</td>\n",
              "      <td>0</td>\n",
              "      <td>com</td>\n",
              "      <td>3</td>\n",
              "    </tr>\n",
              "    <tr>\n",
              "      <th>4</th>\n",
              "      <td>https://www.wikipedia.org</td>\n",
              "      <td>benign</td>\n",
              "      <td>0</td>\n",
              "      <td>25</td>\n",
              "      <td>17</td>\n",
              "      <td>0</td>\n",
              "      <td>0</td>\n",
              "      <td>org</td>\n",
              "      <td>3</td>\n",
              "    </tr>\n",
              "  </tbody>\n",
              "</table>\n",
              "</div>"
            ],
            "text/plain": [
              "                         url   label  result  ...  fd_length  tld  tld_length\n",
              "0     https://www.google.com  benign       0  ...          0  com           3\n",
              "1    https://www.youtube.com  benign       0  ...          0  com           3\n",
              "2   https://www.facebook.com  benign       0  ...          0  com           3\n",
              "3      https://www.baidu.com  benign       0  ...          0  com           3\n",
              "4  https://www.wikipedia.org  benign       0  ...          0  org           3\n",
              "\n",
              "[5 rows x 9 columns]"
            ]
          },
          "metadata": {},
          "execution_count": 9
        }
      ]
    },
    {
      "cell_type": "code",
      "metadata": {
        "id": "kZqP7p_dXtKe"
      },
      "source": [
        "urldata = urldata.drop(\"tld\",1)"
      ],
      "execution_count": null,
      "outputs": []
    },
    {
      "cell_type": "code",
      "metadata": {
        "colab": {
          "base_uri": "https://localhost:8080/",
          "height": 206
        },
        "id": "fYwSJYbOXuM_",
        "outputId": "2fa623ba-cede-4149-dc11-962b09e648c5"
      },
      "source": [
        "urldata.head()"
      ],
      "execution_count": null,
      "outputs": [
        {
          "output_type": "execute_result",
          "data": {
            "text/html": [
              "<div>\n",
              "<style scoped>\n",
              "    .dataframe tbody tr th:only-of-type {\n",
              "        vertical-align: middle;\n",
              "    }\n",
              "\n",
              "    .dataframe tbody tr th {\n",
              "        vertical-align: top;\n",
              "    }\n",
              "\n",
              "    .dataframe thead th {\n",
              "        text-align: right;\n",
              "    }\n",
              "</style>\n",
              "<table border=\"1\" class=\"dataframe\">\n",
              "  <thead>\n",
              "    <tr style=\"text-align: right;\">\n",
              "      <th></th>\n",
              "      <th>url</th>\n",
              "      <th>label</th>\n",
              "      <th>result</th>\n",
              "      <th>url_length</th>\n",
              "      <th>hostname_length</th>\n",
              "      <th>path_length</th>\n",
              "      <th>fd_length</th>\n",
              "      <th>tld_length</th>\n",
              "    </tr>\n",
              "  </thead>\n",
              "  <tbody>\n",
              "    <tr>\n",
              "      <th>0</th>\n",
              "      <td>https://www.google.com</td>\n",
              "      <td>benign</td>\n",
              "      <td>0</td>\n",
              "      <td>22</td>\n",
              "      <td>14</td>\n",
              "      <td>0</td>\n",
              "      <td>0</td>\n",
              "      <td>3</td>\n",
              "    </tr>\n",
              "    <tr>\n",
              "      <th>1</th>\n",
              "      <td>https://www.youtube.com</td>\n",
              "      <td>benign</td>\n",
              "      <td>0</td>\n",
              "      <td>23</td>\n",
              "      <td>15</td>\n",
              "      <td>0</td>\n",
              "      <td>0</td>\n",
              "      <td>3</td>\n",
              "    </tr>\n",
              "    <tr>\n",
              "      <th>2</th>\n",
              "      <td>https://www.facebook.com</td>\n",
              "      <td>benign</td>\n",
              "      <td>0</td>\n",
              "      <td>24</td>\n",
              "      <td>16</td>\n",
              "      <td>0</td>\n",
              "      <td>0</td>\n",
              "      <td>3</td>\n",
              "    </tr>\n",
              "    <tr>\n",
              "      <th>3</th>\n",
              "      <td>https://www.baidu.com</td>\n",
              "      <td>benign</td>\n",
              "      <td>0</td>\n",
              "      <td>21</td>\n",
              "      <td>13</td>\n",
              "      <td>0</td>\n",
              "      <td>0</td>\n",
              "      <td>3</td>\n",
              "    </tr>\n",
              "    <tr>\n",
              "      <th>4</th>\n",
              "      <td>https://www.wikipedia.org</td>\n",
              "      <td>benign</td>\n",
              "      <td>0</td>\n",
              "      <td>25</td>\n",
              "      <td>17</td>\n",
              "      <td>0</td>\n",
              "      <td>0</td>\n",
              "      <td>3</td>\n",
              "    </tr>\n",
              "  </tbody>\n",
              "</table>\n",
              "</div>"
            ],
            "text/plain": [
              "                         url   label  ...  fd_length  tld_length\n",
              "0     https://www.google.com  benign  ...          0           3\n",
              "1    https://www.youtube.com  benign  ...          0           3\n",
              "2   https://www.facebook.com  benign  ...          0           3\n",
              "3      https://www.baidu.com  benign  ...          0           3\n",
              "4  https://www.wikipedia.org  benign  ...          0           3\n",
              "\n",
              "[5 rows x 8 columns]"
            ]
          },
          "metadata": {},
          "execution_count": 11
        }
      ]
    },
    {
      "cell_type": "code",
      "metadata": {
        "id": "x5nIjzbmXvtd"
      },
      "source": [
        "#Count Features\n",
        "urldata['count-'] = urldata['url'].apply(lambda i: i.count('-'))\n",
        "urldata['count@'] = urldata['url'].apply(lambda i: i.count('@'))\n",
        "urldata['count?'] = urldata['url'].apply(lambda i: i.count('?'))\n",
        "urldata['count%'] = urldata['url'].apply(lambda i: i.count('%'))\n",
        "urldata['count.'] = urldata['url'].apply(lambda i: i.count('.'))\n",
        "urldata['count='] = urldata['url'].apply(lambda i: i.count('='))\n",
        "urldata['count-http'] = urldata['url'].apply(lambda i : i.count('http'))\n",
        "urldata['count-https'] = urldata['url'].apply(lambda i : i.count('https'))\n",
        "urldata['count-www'] = urldata['url'].apply(lambda i: i.count('www'))"
      ],
      "execution_count": null,
      "outputs": []
    },
    {
      "cell_type": "code",
      "metadata": {
        "id": "Ho7gTdPXX5vV"
      },
      "source": [
        "def digit_count(url):\n",
        "    digits = 0\n",
        "    for i in url:\n",
        "        if i.isnumeric():\n",
        "            digits = digits + 1\n",
        "    return digits\n",
        "urldata['count-digits']= urldata['url'].apply(lambda i: digit_count(i))"
      ],
      "execution_count": null,
      "outputs": []
    },
    {
      "cell_type": "code",
      "metadata": {
        "id": "gHgREXadX8zx"
      },
      "source": [
        "def letter_count(url):\n",
        "    letters = 0\n",
        "    for i in url:\n",
        "        if i.isalpha():\n",
        "            letters = letters + 1\n",
        "    return letters\n",
        "urldata['count-letters']= urldata['url'].apply(lambda i: letter_count(i))"
      ],
      "execution_count": null,
      "outputs": []
    },
    {
      "cell_type": "code",
      "metadata": {
        "id": "bcVFcerSX_hp"
      },
      "source": [
        "def no_of_dir(url):\n",
        "    urldir = urlparse(url).path\n",
        "    return urldir.count('/')\n",
        "urldata['count_dir'] = urldata['url'].apply(lambda i: no_of_dir(i))"
      ],
      "execution_count": null,
      "outputs": []
    },
    {
      "cell_type": "code",
      "metadata": {
        "colab": {
          "base_uri": "https://localhost:8080/",
          "height": 244
        },
        "id": "YqjLbscSYBzK",
        "outputId": "e0082753-187e-4e9b-a8ea-a38e941e5bbc"
      },
      "source": [
        "urldata.head()"
      ],
      "execution_count": null,
      "outputs": [
        {
          "output_type": "execute_result",
          "data": {
            "text/html": [
              "<div>\n",
              "<style scoped>\n",
              "    .dataframe tbody tr th:only-of-type {\n",
              "        vertical-align: middle;\n",
              "    }\n",
              "\n",
              "    .dataframe tbody tr th {\n",
              "        vertical-align: top;\n",
              "    }\n",
              "\n",
              "    .dataframe thead th {\n",
              "        text-align: right;\n",
              "    }\n",
              "</style>\n",
              "<table border=\"1\" class=\"dataframe\">\n",
              "  <thead>\n",
              "    <tr style=\"text-align: right;\">\n",
              "      <th></th>\n",
              "      <th>url</th>\n",
              "      <th>label</th>\n",
              "      <th>result</th>\n",
              "      <th>url_length</th>\n",
              "      <th>hostname_length</th>\n",
              "      <th>path_length</th>\n",
              "      <th>fd_length</th>\n",
              "      <th>tld_length</th>\n",
              "      <th>count-</th>\n",
              "      <th>count@</th>\n",
              "      <th>count?</th>\n",
              "      <th>count%</th>\n",
              "      <th>count.</th>\n",
              "      <th>count=</th>\n",
              "      <th>count-http</th>\n",
              "      <th>count-https</th>\n",
              "      <th>count-www</th>\n",
              "      <th>count-digits</th>\n",
              "      <th>count-letters</th>\n",
              "      <th>count_dir</th>\n",
              "    </tr>\n",
              "  </thead>\n",
              "  <tbody>\n",
              "    <tr>\n",
              "      <th>0</th>\n",
              "      <td>https://www.google.com</td>\n",
              "      <td>benign</td>\n",
              "      <td>0</td>\n",
              "      <td>22</td>\n",
              "      <td>14</td>\n",
              "      <td>0</td>\n",
              "      <td>0</td>\n",
              "      <td>3</td>\n",
              "      <td>0</td>\n",
              "      <td>0</td>\n",
              "      <td>0</td>\n",
              "      <td>0</td>\n",
              "      <td>2</td>\n",
              "      <td>0</td>\n",
              "      <td>1</td>\n",
              "      <td>1</td>\n",
              "      <td>1</td>\n",
              "      <td>0</td>\n",
              "      <td>17</td>\n",
              "      <td>0</td>\n",
              "    </tr>\n",
              "    <tr>\n",
              "      <th>1</th>\n",
              "      <td>https://www.youtube.com</td>\n",
              "      <td>benign</td>\n",
              "      <td>0</td>\n",
              "      <td>23</td>\n",
              "      <td>15</td>\n",
              "      <td>0</td>\n",
              "      <td>0</td>\n",
              "      <td>3</td>\n",
              "      <td>0</td>\n",
              "      <td>0</td>\n",
              "      <td>0</td>\n",
              "      <td>0</td>\n",
              "      <td>2</td>\n",
              "      <td>0</td>\n",
              "      <td>1</td>\n",
              "      <td>1</td>\n",
              "      <td>1</td>\n",
              "      <td>0</td>\n",
              "      <td>18</td>\n",
              "      <td>0</td>\n",
              "    </tr>\n",
              "    <tr>\n",
              "      <th>2</th>\n",
              "      <td>https://www.facebook.com</td>\n",
              "      <td>benign</td>\n",
              "      <td>0</td>\n",
              "      <td>24</td>\n",
              "      <td>16</td>\n",
              "      <td>0</td>\n",
              "      <td>0</td>\n",
              "      <td>3</td>\n",
              "      <td>0</td>\n",
              "      <td>0</td>\n",
              "      <td>0</td>\n",
              "      <td>0</td>\n",
              "      <td>2</td>\n",
              "      <td>0</td>\n",
              "      <td>1</td>\n",
              "      <td>1</td>\n",
              "      <td>1</td>\n",
              "      <td>0</td>\n",
              "      <td>19</td>\n",
              "      <td>0</td>\n",
              "    </tr>\n",
              "    <tr>\n",
              "      <th>3</th>\n",
              "      <td>https://www.baidu.com</td>\n",
              "      <td>benign</td>\n",
              "      <td>0</td>\n",
              "      <td>21</td>\n",
              "      <td>13</td>\n",
              "      <td>0</td>\n",
              "      <td>0</td>\n",
              "      <td>3</td>\n",
              "      <td>0</td>\n",
              "      <td>0</td>\n",
              "      <td>0</td>\n",
              "      <td>0</td>\n",
              "      <td>2</td>\n",
              "      <td>0</td>\n",
              "      <td>1</td>\n",
              "      <td>1</td>\n",
              "      <td>1</td>\n",
              "      <td>0</td>\n",
              "      <td>16</td>\n",
              "      <td>0</td>\n",
              "    </tr>\n",
              "    <tr>\n",
              "      <th>4</th>\n",
              "      <td>https://www.wikipedia.org</td>\n",
              "      <td>benign</td>\n",
              "      <td>0</td>\n",
              "      <td>25</td>\n",
              "      <td>17</td>\n",
              "      <td>0</td>\n",
              "      <td>0</td>\n",
              "      <td>3</td>\n",
              "      <td>0</td>\n",
              "      <td>0</td>\n",
              "      <td>0</td>\n",
              "      <td>0</td>\n",
              "      <td>2</td>\n",
              "      <td>0</td>\n",
              "      <td>1</td>\n",
              "      <td>1</td>\n",
              "      <td>1</td>\n",
              "      <td>0</td>\n",
              "      <td>20</td>\n",
              "      <td>0</td>\n",
              "    </tr>\n",
              "  </tbody>\n",
              "</table>\n",
              "</div>"
            ],
            "text/plain": [
              "                         url   label  ...  count-letters  count_dir\n",
              "0     https://www.google.com  benign  ...             17          0\n",
              "1    https://www.youtube.com  benign  ...             18          0\n",
              "2   https://www.facebook.com  benign  ...             19          0\n",
              "3      https://www.baidu.com  benign  ...             16          0\n",
              "4  https://www.wikipedia.org  benign  ...             20          0\n",
              "\n",
              "[5 rows x 20 columns]"
            ]
          },
          "metadata": {},
          "execution_count": 16
        }
      ]
    },
    {
      "cell_type": "code",
      "metadata": {
        "id": "gxnjSKPqYD-q"
      },
      "source": [
        "import re\n",
        "\n",
        "#Use of IP or not in domain\n",
        "def having_ip_address(url):\n",
        "    match = re.search(\n",
        "        '(([01]?\\\\d\\\\d?|2[0-4]\\\\d|25[0-5])\\\\.([01]?\\\\d\\\\d?|2[0-4]\\\\d|25[0-5])\\\\.([01]?\\\\d\\\\d?|2[0-4]\\\\d|25[0-5])\\\\.'\n",
        "        '([01]?\\\\d\\\\d?|2[0-4]\\\\d|25[0-5])\\\\/)|'  # IPv4\n",
        "        '((0x[0-9a-fA-F]{1,2})\\\\.(0x[0-9a-fA-F]{1,2})\\\\.(0x[0-9a-fA-F]{1,2})\\\\.(0x[0-9a-fA-F]{1,2})\\\\/)' # IPv4 in hexadecimal\n",
        "        '(?:[a-fA-F0-9]{1,4}:){7}[a-fA-F0-9]{1,4}', url)  # Ipv6\n",
        "    if match:\n",
        "        # print match.group()\n",
        "        return -1\n",
        "    else:\n",
        "        # print 'No matching pattern found'\n",
        "        return 1\n",
        "urldata['use_of_ip'] = urldata['url'].apply(lambda i: having_ip_address(i))\n",
        "\n",
        "#If url is shortened\n",
        "def shortening_service(url):\n",
        "    match = re.search('bit\\.ly|goo\\.gl|shorte\\.st|go2l\\.ink|x\\.co|ow\\.ly|t\\.co|tinyurl|tr\\.im|is\\.gd|cli\\.gs|'\n",
        "                      'yfrog\\.com|migre\\.me|ff\\.im|tiny\\.cc|url4\\.eu|twit\\.ac|su\\.pr|twurl\\.nl|snipurl\\.com|'\n",
        "                      'short\\.to|BudURL\\.com|ping\\.fm|post\\.ly|Just\\.as|bkite\\.com|snipr\\.com|fic\\.kr|loopt\\.us|'\n",
        "                      'doiop\\.com|short\\.ie|kl\\.am|wp\\.me|rubyurl\\.com|om\\.ly|to\\.ly|bit\\.do|t\\.co|lnkd\\.in|'\n",
        "                      'db\\.tt|qr\\.ae|adf\\.ly|goo\\.gl|bitly\\.com|cur\\.lv|tinyurl\\.com|ow\\.ly|bit\\.ly|ity\\.im|'\n",
        "                      'q\\.gs|is\\.gd|po\\.st|bc\\.vc|twitthis\\.com|u\\.to|j\\.mp|buzurl\\.com|cutt\\.us|u\\.bb|yourls\\.org|'\n",
        "                      'x\\.co|prettylinkpro\\.com|scrnch\\.me|filoops\\.info|vzturl\\.com|qr\\.net|1url\\.com|tweez\\.me|v\\.gd|'\n",
        "                      'tr\\.im|link\\.zip\\.net',\n",
        "                      url)\n",
        "    if match:\n",
        "        return -1\n",
        "    else:\n",
        "        return 1\n",
        "urldata['short_url'] = urldata['url'].apply(lambda i: shortening_service(i))"
      ],
      "execution_count": null,
      "outputs": []
    },
    {
      "cell_type": "code",
      "metadata": {
        "colab": {
          "base_uri": "https://localhost:8080/",
          "height": 244
        },
        "id": "XzcRj5hDYWoB",
        "outputId": "76b02b1b-170f-47b6-ea53-58d8ddf109a4"
      },
      "source": [
        "urldata.head()"
      ],
      "execution_count": null,
      "outputs": [
        {
          "output_type": "execute_result",
          "data": {
            "text/html": [
              "<div>\n",
              "<style scoped>\n",
              "    .dataframe tbody tr th:only-of-type {\n",
              "        vertical-align: middle;\n",
              "    }\n",
              "\n",
              "    .dataframe tbody tr th {\n",
              "        vertical-align: top;\n",
              "    }\n",
              "\n",
              "    .dataframe thead th {\n",
              "        text-align: right;\n",
              "    }\n",
              "</style>\n",
              "<table border=\"1\" class=\"dataframe\">\n",
              "  <thead>\n",
              "    <tr style=\"text-align: right;\">\n",
              "      <th></th>\n",
              "      <th>url</th>\n",
              "      <th>label</th>\n",
              "      <th>result</th>\n",
              "      <th>url_length</th>\n",
              "      <th>hostname_length</th>\n",
              "      <th>path_length</th>\n",
              "      <th>fd_length</th>\n",
              "      <th>tld_length</th>\n",
              "      <th>count-</th>\n",
              "      <th>count@</th>\n",
              "      <th>count?</th>\n",
              "      <th>count%</th>\n",
              "      <th>count.</th>\n",
              "      <th>count=</th>\n",
              "      <th>count-http</th>\n",
              "      <th>count-https</th>\n",
              "      <th>count-www</th>\n",
              "      <th>count-digits</th>\n",
              "      <th>count-letters</th>\n",
              "      <th>count_dir</th>\n",
              "      <th>use_of_ip</th>\n",
              "      <th>short_url</th>\n",
              "    </tr>\n",
              "  </thead>\n",
              "  <tbody>\n",
              "    <tr>\n",
              "      <th>0</th>\n",
              "      <td>https://www.google.com</td>\n",
              "      <td>benign</td>\n",
              "      <td>0</td>\n",
              "      <td>22</td>\n",
              "      <td>14</td>\n",
              "      <td>0</td>\n",
              "      <td>0</td>\n",
              "      <td>3</td>\n",
              "      <td>0</td>\n",
              "      <td>0</td>\n",
              "      <td>0</td>\n",
              "      <td>0</td>\n",
              "      <td>2</td>\n",
              "      <td>0</td>\n",
              "      <td>1</td>\n",
              "      <td>1</td>\n",
              "      <td>1</td>\n",
              "      <td>0</td>\n",
              "      <td>17</td>\n",
              "      <td>0</td>\n",
              "      <td>1</td>\n",
              "      <td>1</td>\n",
              "    </tr>\n",
              "    <tr>\n",
              "      <th>1</th>\n",
              "      <td>https://www.youtube.com</td>\n",
              "      <td>benign</td>\n",
              "      <td>0</td>\n",
              "      <td>23</td>\n",
              "      <td>15</td>\n",
              "      <td>0</td>\n",
              "      <td>0</td>\n",
              "      <td>3</td>\n",
              "      <td>0</td>\n",
              "      <td>0</td>\n",
              "      <td>0</td>\n",
              "      <td>0</td>\n",
              "      <td>2</td>\n",
              "      <td>0</td>\n",
              "      <td>1</td>\n",
              "      <td>1</td>\n",
              "      <td>1</td>\n",
              "      <td>0</td>\n",
              "      <td>18</td>\n",
              "      <td>0</td>\n",
              "      <td>1</td>\n",
              "      <td>1</td>\n",
              "    </tr>\n",
              "    <tr>\n",
              "      <th>2</th>\n",
              "      <td>https://www.facebook.com</td>\n",
              "      <td>benign</td>\n",
              "      <td>0</td>\n",
              "      <td>24</td>\n",
              "      <td>16</td>\n",
              "      <td>0</td>\n",
              "      <td>0</td>\n",
              "      <td>3</td>\n",
              "      <td>0</td>\n",
              "      <td>0</td>\n",
              "      <td>0</td>\n",
              "      <td>0</td>\n",
              "      <td>2</td>\n",
              "      <td>0</td>\n",
              "      <td>1</td>\n",
              "      <td>1</td>\n",
              "      <td>1</td>\n",
              "      <td>0</td>\n",
              "      <td>19</td>\n",
              "      <td>0</td>\n",
              "      <td>1</td>\n",
              "      <td>1</td>\n",
              "    </tr>\n",
              "    <tr>\n",
              "      <th>3</th>\n",
              "      <td>https://www.baidu.com</td>\n",
              "      <td>benign</td>\n",
              "      <td>0</td>\n",
              "      <td>21</td>\n",
              "      <td>13</td>\n",
              "      <td>0</td>\n",
              "      <td>0</td>\n",
              "      <td>3</td>\n",
              "      <td>0</td>\n",
              "      <td>0</td>\n",
              "      <td>0</td>\n",
              "      <td>0</td>\n",
              "      <td>2</td>\n",
              "      <td>0</td>\n",
              "      <td>1</td>\n",
              "      <td>1</td>\n",
              "      <td>1</td>\n",
              "      <td>0</td>\n",
              "      <td>16</td>\n",
              "      <td>0</td>\n",
              "      <td>1</td>\n",
              "      <td>1</td>\n",
              "    </tr>\n",
              "    <tr>\n",
              "      <th>4</th>\n",
              "      <td>https://www.wikipedia.org</td>\n",
              "      <td>benign</td>\n",
              "      <td>0</td>\n",
              "      <td>25</td>\n",
              "      <td>17</td>\n",
              "      <td>0</td>\n",
              "      <td>0</td>\n",
              "      <td>3</td>\n",
              "      <td>0</td>\n",
              "      <td>0</td>\n",
              "      <td>0</td>\n",
              "      <td>0</td>\n",
              "      <td>2</td>\n",
              "      <td>0</td>\n",
              "      <td>1</td>\n",
              "      <td>1</td>\n",
              "      <td>1</td>\n",
              "      <td>0</td>\n",
              "      <td>20</td>\n",
              "      <td>0</td>\n",
              "      <td>1</td>\n",
              "      <td>1</td>\n",
              "    </tr>\n",
              "  </tbody>\n",
              "</table>\n",
              "</div>"
            ],
            "text/plain": [
              "                         url   label  result  ...  count_dir  use_of_ip  short_url\n",
              "0     https://www.google.com  benign       0  ...          0          1          1\n",
              "1    https://www.youtube.com  benign       0  ...          0          1          1\n",
              "2   https://www.facebook.com  benign       0  ...          0          1          1\n",
              "3      https://www.baidu.com  benign       0  ...          0          1          1\n",
              "4  https://www.wikipedia.org  benign       0  ...          0          1          1\n",
              "\n",
              "[5 rows x 22 columns]"
            ]
          },
          "metadata": {},
          "execution_count": 18
        }
      ]
    },
    {
      "cell_type": "code",
      "metadata": {
        "colab": {
          "base_uri": "https://localhost:8080/",
          "height": 261
        },
        "id": "Y7-bZCa9_VHd",
        "outputId": "3c0fb929-2334-4ee7-de85-2c6dc664c889"
      },
      "source": [
        "urldata.tail()"
      ],
      "execution_count": null,
      "outputs": [
        {
          "output_type": "execute_result",
          "data": {
            "text/html": [
              "<div>\n",
              "<style scoped>\n",
              "    .dataframe tbody tr th:only-of-type {\n",
              "        vertical-align: middle;\n",
              "    }\n",
              "\n",
              "    .dataframe tbody tr th {\n",
              "        vertical-align: top;\n",
              "    }\n",
              "\n",
              "    .dataframe thead th {\n",
              "        text-align: right;\n",
              "    }\n",
              "</style>\n",
              "<table border=\"1\" class=\"dataframe\">\n",
              "  <thead>\n",
              "    <tr style=\"text-align: right;\">\n",
              "      <th></th>\n",
              "      <th>url</th>\n",
              "      <th>label</th>\n",
              "      <th>result</th>\n",
              "      <th>url_length</th>\n",
              "      <th>hostname_length</th>\n",
              "      <th>path_length</th>\n",
              "      <th>fd_length</th>\n",
              "      <th>tld_length</th>\n",
              "      <th>count-</th>\n",
              "      <th>count@</th>\n",
              "      <th>count?</th>\n",
              "      <th>count%</th>\n",
              "      <th>count.</th>\n",
              "      <th>count=</th>\n",
              "      <th>count-http</th>\n",
              "      <th>count-https</th>\n",
              "      <th>count-www</th>\n",
              "      <th>count-digits</th>\n",
              "      <th>count-letters</th>\n",
              "      <th>count_dir</th>\n",
              "      <th>use_of_ip</th>\n",
              "      <th>short_url</th>\n",
              "    </tr>\n",
              "  </thead>\n",
              "  <tbody>\n",
              "    <tr>\n",
              "      <th>450171</th>\n",
              "      <td>http://ecct-it.com/docmmmnn/aptgd/index.php</td>\n",
              "      <td>malicious</td>\n",
              "      <td>1</td>\n",
              "      <td>43</td>\n",
              "      <td>11</td>\n",
              "      <td>25</td>\n",
              "      <td>8</td>\n",
              "      <td>3</td>\n",
              "      <td>1</td>\n",
              "      <td>0</td>\n",
              "      <td>0</td>\n",
              "      <td>0</td>\n",
              "      <td>2</td>\n",
              "      <td>0</td>\n",
              "      <td>1</td>\n",
              "      <td>0</td>\n",
              "      <td>0</td>\n",
              "      <td>0</td>\n",
              "      <td>34</td>\n",
              "      <td>3</td>\n",
              "      <td>1</td>\n",
              "      <td>-1</td>\n",
              "    </tr>\n",
              "    <tr>\n",
              "      <th>450172</th>\n",
              "      <td>http://faboleena.com/js/infortis/jquery/plugin...</td>\n",
              "      <td>malicious</td>\n",
              "      <td>1</td>\n",
              "      <td>159</td>\n",
              "      <td>13</td>\n",
              "      <td>139</td>\n",
              "      <td>2</td>\n",
              "      <td>3</td>\n",
              "      <td>0</td>\n",
              "      <td>0</td>\n",
              "      <td>0</td>\n",
              "      <td>0</td>\n",
              "      <td>2</td>\n",
              "      <td>1</td>\n",
              "      <td>1</td>\n",
              "      <td>0</td>\n",
              "      <td>0</td>\n",
              "      <td>21</td>\n",
              "      <td>118</td>\n",
              "      <td>12</td>\n",
              "      <td>1</td>\n",
              "      <td>1</td>\n",
              "    </tr>\n",
              "    <tr>\n",
              "      <th>450173</th>\n",
              "      <td>http://faboleena.com/js/infortis/jquery/plugin...</td>\n",
              "      <td>malicious</td>\n",
              "      <td>1</td>\n",
              "      <td>147</td>\n",
              "      <td>13</td>\n",
              "      <td>127</td>\n",
              "      <td>2</td>\n",
              "      <td>3</td>\n",
              "      <td>0</td>\n",
              "      <td>0</td>\n",
              "      <td>0</td>\n",
              "      <td>0</td>\n",
              "      <td>1</td>\n",
              "      <td>1</td>\n",
              "      <td>1</td>\n",
              "      <td>0</td>\n",
              "      <td>0</td>\n",
              "      <td>20</td>\n",
              "      <td>109</td>\n",
              "      <td>12</td>\n",
              "      <td>1</td>\n",
              "      <td>1</td>\n",
              "    </tr>\n",
              "    <tr>\n",
              "      <th>450174</th>\n",
              "      <td>http://atualizapj.com/</td>\n",
              "      <td>malicious</td>\n",
              "      <td>1</td>\n",
              "      <td>22</td>\n",
              "      <td>14</td>\n",
              "      <td>1</td>\n",
              "      <td>0</td>\n",
              "      <td>3</td>\n",
              "      <td>0</td>\n",
              "      <td>0</td>\n",
              "      <td>0</td>\n",
              "      <td>0</td>\n",
              "      <td>1</td>\n",
              "      <td>0</td>\n",
              "      <td>1</td>\n",
              "      <td>0</td>\n",
              "      <td>0</td>\n",
              "      <td>0</td>\n",
              "      <td>17</td>\n",
              "      <td>1</td>\n",
              "      <td>1</td>\n",
              "      <td>1</td>\n",
              "    </tr>\n",
              "    <tr>\n",
              "      <th>450175</th>\n",
              "      <td>http://writeassociate.com/test/Portal/inicio/I...</td>\n",
              "      <td>malicious</td>\n",
              "      <td>1</td>\n",
              "      <td>143</td>\n",
              "      <td>18</td>\n",
              "      <td>118</td>\n",
              "      <td>4</td>\n",
              "      <td>3</td>\n",
              "      <td>1</td>\n",
              "      <td>0</td>\n",
              "      <td>0</td>\n",
              "      <td>0</td>\n",
              "      <td>4</td>\n",
              "      <td>0</td>\n",
              "      <td>1</td>\n",
              "      <td>0</td>\n",
              "      <td>1</td>\n",
              "      <td>9</td>\n",
              "      <td>118</td>\n",
              "      <td>7</td>\n",
              "      <td>1</td>\n",
              "      <td>1</td>\n",
              "    </tr>\n",
              "  </tbody>\n",
              "</table>\n",
              "</div>"
            ],
            "text/plain": [
              "                                                      url  ... short_url\n",
              "450171        http://ecct-it.com/docmmmnn/aptgd/index.php  ...        -1\n",
              "450172  http://faboleena.com/js/infortis/jquery/plugin...  ...         1\n",
              "450173  http://faboleena.com/js/infortis/jquery/plugin...  ...         1\n",
              "450174                             http://atualizapj.com/  ...         1\n",
              "450175  http://writeassociate.com/test/Portal/inicio/I...  ...         1\n",
              "\n",
              "[5 rows x 22 columns]"
            ]
          },
          "metadata": {},
          "execution_count": 33
        }
      ]
    },
    {
      "cell_type": "code",
      "metadata": {
        "colab": {
          "base_uri": "https://localhost:8080/",
          "height": 1000
        },
        "id": "OxU5JB2MYb6w",
        "outputId": "51fc9030-62da-463d-da31-d28e4b90da6c"
      },
      "source": [
        "corrmat = urldata.corr()\n",
        "f, ax = plt.subplots(figsize=(25,19))\n",
        "sns.heatmap(corrmat, square=True, annot = True, annot_kws={'size':10})"
      ],
      "execution_count": null,
      "outputs": [
        {
          "output_type": "execute_result",
          "data": {
            "text/plain": [
              "<matplotlib.axes._subplots.AxesSubplot at 0x7fc9b1089610>"
            ]
          },
          "metadata": {},
          "execution_count": 19
        },
        {
          "output_type": "display_data",
          "data": {
            "image/png": "[encoded data removed]",
            "text/plain": [
              "<Figure size 1800x1368 with 2 Axes>"
            ]
          },
          "metadata": {
            "needs_background": "light"
          }
        }
      ]
    },
    {
      "cell_type": "code",
      "metadata": {
        "colab": {
          "base_uri": "https://localhost:8080/",
          "height": 351
        },
        "id": "4GHHndeUYga8",
        "outputId": "000e5c52-3ae2-4bc2-da89-9daa779287df"
      },
      "source": [
        "sns.countplot(urldata['label'])"
      ],
      "execution_count": null,
      "outputs": [
        {
          "output_type": "stream",
          "name": "stderr",
          "text": [
            "/usr/local/lib/python3.7/dist-packages/seaborn/_decorators.py:43: FutureWarning: Pass the following variable as a keyword arg: x. From version 0.12, the only valid positional argument will be `data`, and passing other arguments without an explicit keyword will result in an error or misinterpretation.\n",
            "  FutureWarning\n"
          ]
        },
        {
          "output_type": "execute_result",
          "data": {
            "text/plain": [
              "<matplotlib.axes._subplots.AxesSubplot at 0x7fc9a7f28cd0>"
            ]
          },
          "metadata": {},
          "execution_count": 20
        },
        {
          "output_type": "display_data",
          "data": {
            "image/png": "[encoded data removed]",
            "text/plain": [
              "<Figure size 432x288 with 1 Axes>"
            ]
          },
          "metadata": {
            "needs_background": "light"
          }
        }
      ]
    },
    {
      "cell_type": "code",
      "metadata": {
        "colab": {
          "base_uri": "https://localhost:8080/",
          "height": 380
        },
        "id": "mc0OrUBk8wzg",
        "outputId": "a95ad169-e9b8-420b-85ed-5f49276b21f4"
      },
      "source": [
        "plt.figure(figsize=(20,5))\n",
        "plt.hist(urldata['url_length'],bins=50)\n",
        "plt.title(\"URL-Length\",fontsize=20)\n",
        "plt.xlabel(\"Url-Length\",fontsize=18)\n",
        "plt.ylabel(\"Number Of Urls\",fontsize=18)\n",
        "plt.ylim(0,1000)"
      ],
      "execution_count": null,
      "outputs": [
        {
          "output_type": "execute_result",
          "data": {
            "text/plain": [
              "(0.0, 1000.0)"
            ]
          },
          "metadata": {},
          "execution_count": 22
        },
        {
          "output_type": "display_data",
          "data": {
            "image/png": "[encoded data removed]",
            "text/plain": [
              "<Figure size 1440x360 with 1 Axes>"
            ]
          },
          "metadata": {
            "needs_background": "light"
          }
        }
      ]
    },
    {
      "cell_type": "code",
      "metadata": {
        "colab": {
          "base_uri": "https://localhost:8080/",
          "height": 380
        },
        "id": "RCXJcfHr8w0y",
        "outputId": "9d98c53f-7569-464c-8f6e-83e268e51e59"
      },
      "source": [
        "plt.figure(figsize=(20,5))\n",
        "plt.hist(urldata['hostname_length'])\n",
        "plt.title(\"Hostname-Length\",fontsize=20)\n",
        "plt.xlabel(\"Length Of Hostname\",fontsize=18)\n",
        "plt.ylabel(\"Number Of Urls\",fontsize=18)\n",
        "plt.ylim(0,1000)"
      ],
      "execution_count": null,
      "outputs": [
        {
          "output_type": "execute_result",
          "data": {
            "text/plain": [
              "(0.0, 1000.0)"
            ]
          },
          "metadata": {},
          "execution_count": 23
        },
        {
          "output_type": "display_data",
          "data": {
            "image/png": "[encoded data removed]",
            "text/plain": [
              "<Figure size 1440x360 with 1 Axes>"
            ]
          },
          "metadata": {
            "needs_background": "light"
          }
        }
      ]
    },
    {
      "cell_type": "code",
      "metadata": {
        "colab": {
          "base_uri": "https://localhost:8080/",
          "height": 380
        },
        "id": "Ch6-wB6-8w4N",
        "outputId": "264c5364-5977-4827-ce5f-ffa263d90571"
      },
      "source": [
        "plt.figure(figsize=(15,5))\n",
        "plt.title(\"Number Of Directories In Url\",fontsize=20)\n",
        "sns.countplot(x='count_dir',data=urldata)\n",
        "plt.xlabel(\"Number Of Directories\",fontsize=18)\n",
        "plt.ylabel(\"Number Of URLs\",fontsize=18)"
      ],
      "execution_count": null,
      "outputs": [
        {
          "output_type": "execute_result",
          "data": {
            "text/plain": [
              "Text(0, 0.5, 'Number Of URLs')"
            ]
          },
          "metadata": {},
          "execution_count": 27
        },
        {
          "output_type": "display_data",
          "data": {
            "image/png": "[encoded data removed]",
            "text/plain": [
              "<Figure size 1080x360 with 1 Axes>"
            ]
          },
          "metadata": {
            "needs_background": "light"
          }
        }
      ]
    },
    {
      "cell_type": "code",
      "metadata": {
        "colab": {
          "base_uri": "https://localhost:8080/",
          "height": 435
        },
        "id": "F7pGavXr8w5j",
        "outputId": "1c1c6f96-cd50-4faa-bd89-90a6146fe367"
      },
      "source": [
        "plt.figure(figsize=(15,5))\n",
        "plt.title(\"Use Of http In Url\",fontsize=20)\n",
        "plt.xlabel(\"Count http\",fontsize=18)\n",
        "plt.ylim((0,1000))\n",
        "sns.countplot(urldata['count-http'])\n",
        "plt.ylabel(\"Number of URLs\",fontsize=18)"
      ],
      "execution_count": null,
      "outputs": [
        {
          "output_type": "stream",
          "name": "stderr",
          "text": [
            "/usr/local/lib/python3.7/dist-packages/seaborn/_decorators.py:43: FutureWarning: Pass the following variable as a keyword arg: x. From version 0.12, the only valid positional argument will be `data`, and passing other arguments without an explicit keyword will result in an error or misinterpretation.\n",
            "  FutureWarning\n"
          ]
        },
        {
          "output_type": "execute_result",
          "data": {
            "text/plain": [
              "Text(0, 0.5, 'Number of URLs')"
            ]
          },
          "metadata": {},
          "execution_count": 31
        },
        {
          "output_type": "display_data",
          "data": {
            "image/png": "[encoded data removed]",
            "text/plain": [
              "<Figure size 1080x360 with 1 Axes>"
            ]
          },
          "metadata": {
            "needs_background": "light"
          }
        }
      ]
    },
    {
      "cell_type": "code",
      "metadata": {
        "colab": {
          "base_uri": "https://localhost:8080/",
          "height": 435
        },
        "id": "QgKfWq2F8w88",
        "outputId": "4943d09f-bdd8-4851-c90a-9acabf56133d"
      },
      "source": [
        "plt.figure(figsize=(15,5))\n",
        "plt.title(\"Use Of https In Url\",fontsize=20)\n",
        "plt.xlabel(\"Count https\",fontsize=18)\n",
        "plt.ylim((0,1000))\n",
        "sns.countplot(urldata['count-https'])\n",
        "plt.ylabel(\"Number of URLs\",fontsize=18)"
      ],
      "execution_count": null,
      "outputs": [
        {
          "output_type": "stream",
          "name": "stderr",
          "text": [
            "/usr/local/lib/python3.7/dist-packages/seaborn/_decorators.py:43: FutureWarning: Pass the following variable as a keyword arg: x. From version 0.12, the only valid positional argument will be `data`, and passing other arguments without an explicit keyword will result in an error or misinterpretation.\n",
            "  FutureWarning\n"
          ]
        },
        {
          "output_type": "execute_result",
          "data": {
            "text/plain": [
              "Text(0, 0.5, 'Number of URLs')"
            ]
          },
          "metadata": {},
          "execution_count": 30
        },
        {
          "output_type": "display_data",
          "data": {
            "image/png": "[encoded data removed]",
            "text/plain": [
              "<Figure size 1080x360 with 1 Axes>"
            ]
          },
          "metadata": {
            "needs_background": "light"
          }
        }
      ]
    },
    {
      "cell_type": "code",
      "metadata": {
        "id": "BpdVA9nQ8w_M"
      },
      "source": [],
      "execution_count": null,
      "outputs": []
    },
    {
      "cell_type": "code",
      "metadata": {
        "id": "VArT1ArU8xCd"
      },
      "source": [],
      "execution_count": null,
      "outputs": []
    },
    {
      "cell_type": "code",
      "metadata": {
        "id": "7Ue453faYqjR"
      },
      "source": [
        "#Predictor Variables\n",
        "X = urldata[['hostname_length',\n",
        "       'path_length', 'fd_length', 'tld_length', 'count-', 'count@', 'count?',\n",
        "       'count%', 'count.', 'count=', 'count-http','count-https', 'count-www', 'count-digits',\n",
        "       'count-letters', 'count_dir', 'use_of_ip']]\n",
        "\n",
        "#Target Variable\n",
        "y = urldata['result']"
      ],
      "execution_count": null,
      "outputs": []
    },
    {
      "cell_type": "code",
      "metadata": {
        "colab": {
          "base_uri": "https://localhost:8080/"
        },
        "id": "8rh9TH4YZD2s",
        "outputId": "c1298bd0-11ed-4f99-d495-160dfdbbf0e7"
      },
      "source": [
        "print(X.shape)\n",
        "print(y.shape)"
      ],
      "execution_count": null,
      "outputs": [
        {
          "output_type": "stream",
          "name": "stdout",
          "text": [
            "(450176, 17)\n",
            "(450176,)\n"
          ]
        }
      ]
    },
    {
      "cell_type": "code",
      "metadata": {
        "id": "eqynPZL0ZGpt"
      },
      "source": [
        "X_train, X_test, y_train, y_test = train_test_split(X, y, train_size=0.3, random_state=42)"
      ],
      "execution_count": null,
      "outputs": []
    },
    {
      "cell_type": "code",
      "metadata": {
        "id": "xptTdP9xZNkM"
      },
      "source": [],
      "execution_count": null,
      "outputs": []
    },
    {
      "cell_type": "code",
      "metadata": {
        "id": "Gwj7sZuTZShO"
      },
      "source": [],
      "execution_count": null,
      "outputs": []
    },
    {
      "cell_type": "code",
      "metadata": {
        "id": "dHtq39gXZcLX"
      },
      "source": [],
      "execution_count": null,
      "outputs": []
    },
    {
      "cell_type": "markdown",
      "metadata": {
        "id": "YzFF1nWcZcLY"
      },
      "source": [
        "**Logistic Regression**"
      ]
    },
    {
      "cell_type": "code",
      "metadata": {
        "colab": {
          "base_uri": "https://localhost:8080/"
        },
        "id": "LfXsgcmhZcLZ",
        "outputId": "c7a9805a-e099-4010-9125-60b8e9bdd800"
      },
      "source": [
        "from sklearn.linear_model import LogisticRegression\n",
        "lgs = LogisticRegression()\n",
        "lgs.fit(X_train, y_train)"
      ],
      "execution_count": null,
      "outputs": [
        {
          "output_type": "stream",
          "name": "stderr",
          "text": [
            "/usr/local/lib/python3.7/dist-packages/sklearn/linear_model/_logistic.py:818: ConvergenceWarning: lbfgs failed to converge (status=1):\n",
            "STOP: TOTAL NO. of ITERATIONS REACHED LIMIT.\n",
            "\n",
            "Increase the number of iterations (max_iter) or scale the data as shown in:\n",
            "    https://scikit-learn.org/stable/modules/preprocessing.html\n",
            "Please also refer to the documentation for alternative solver options:\n",
            "    https://scikit-learn.org/stable/modules/linear_model.html#logistic-regression\n",
            "  extra_warning_msg=_LOGISTIC_SOLVER_CONVERGENCE_MSG,\n"
          ]
        },
        {
          "output_type": "execute_result",
          "data": {
            "text/plain": [
              "LogisticRegression()"
            ]
          },
          "metadata": {},
          "execution_count": 24
        }
      ]
    },
    {
      "cell_type": "code",
      "metadata": {
        "colab": {
          "base_uri": "https://localhost:8080/"
        },
        "id": "7pZsLypnZcLZ",
        "outputId": "538420df-0b5f-4659-991e-a852549afe81"
      },
      "source": [
        "ypred_lr = lgs.predict(X_test)\n",
        "print (ypred_lr)"
      ],
      "execution_count": null,
      "outputs": [
        {
          "output_type": "stream",
          "name": "stdout",
          "text": [
            "[1 0 0 ... 1 0 0]\n"
          ]
        }
      ]
    },
    {
      "cell_type": "code",
      "metadata": {
        "colab": {
          "base_uri": "https://localhost:8080/"
        },
        "id": "KduA4tslZcLa",
        "outputId": "dfe1157f-b040-44ea-d2bd-d5b84b56d2ff"
      },
      "source": [
        "lr_acc = accuracy_score(y_test, ypred_lr)\n",
        "print(\"Accuracy: {}\".format(lr_acc))\n",
        "#Recall score\n",
        "print(\"Recall Score: {}\".format(recall_score(y_test, ypred_lr, average='weighted')))\n",
        "#Precision Score\n",
        "print('Precision Score: {}'.format(precision_score(y_test, ypred_lr, average='weighted')))\n",
        "#F1 Score\n",
        "print('F1 Score: {}'.format(f1_score(y_test, ypred_lr, average='weighted')))\n",
        "# ROC AUC Score\n",
        "print('ROC AUC Score: {}'.format(roc_auc_score(y_test, ypred_lr, average='weighted')))"
      ],
      "execution_count": null,
      "outputs": [
        {
          "output_type": "stream",
          "name": "stdout",
          "text": [
            "Accuracy: 0.9957730924969218\n",
            "Recall Score: 0.9957730924969218\n",
            "Precision Score: 0.9957701595199347\n",
            "F1 Score: 0.9957710531127333\n",
            "ROC AUC Score: 0.9935913372192509\n"
          ]
        }
      ]
    },
    {
      "cell_type": "markdown",
      "metadata": {
        "id": "1QtfIcfdZcLb"
      },
      "source": [
        "**Gaussian** **Naive** **Bayes**"
      ]
    },
    {
      "cell_type": "code",
      "metadata": {
        "colab": {
          "base_uri": "https://localhost:8080/"
        },
        "id": "Z8e4wGeEZcLb",
        "outputId": "94bb4518-34b6-4697-f245-d92298cee8a9"
      },
      "source": [
        "from sklearn.naive_bayes import GaussianNB\n",
        "nb = GaussianNB()\n",
        "nb.fit(X_train, y_train)"
      ],
      "execution_count": null,
      "outputs": [
        {
          "output_type": "execute_result",
          "data": {
            "text/plain": [
              "GaussianNB()"
            ]
          },
          "metadata": {},
          "execution_count": 28
        }
      ]
    },
    {
      "cell_type": "code",
      "metadata": {
        "colab": {
          "base_uri": "https://localhost:8080/"
        },
        "id": "LdGSv8fQZcLb",
        "outputId": "63b938aa-2c0d-4a40-f803-5b750a2f857f"
      },
      "source": [
        "ypred_nb = nb.predict(X_test)\n",
        "print (ypred_nb)"
      ],
      "execution_count": null,
      "outputs": [
        {
          "output_type": "stream",
          "name": "stdout",
          "text": [
            "[1 0 0 ... 1 0 0]\n"
          ]
        }
      ]
    },
    {
      "cell_type": "code",
      "metadata": {
        "colab": {
          "base_uri": "https://localhost:8080/"
        },
        "id": "j8LZGKgdZcLc",
        "outputId": "81603d50-a687-45ed-ef63-35e29cbe8728"
      },
      "source": [
        "nb_acc = accuracy_score(y_test, ypred_nb)\n",
        "print(\"Accuracy: {}\".format(nb_acc))\n",
        "#Recall score\n",
        "print(\"Recall Score: {}\".format(recall_score(y_test, ypred_nb, average='weighted')))\n",
        "#Precision Score\n",
        "print('Precision Score: {}'.format(precision_score(y_test, ypred_nb, average='weighted')))\n",
        "#F1 Score\n",
        "print('F1 Score: {}'.format(f1_score(y_test, ypred_nb, average='weighted')))\n",
        "# ROC AUC Score\n",
        "print('ROC AUC Score: {}'.format(roc_auc_score(y_test, ypred_nb, average='weighted')))"
      ],
      "execution_count": null,
      "outputs": [
        {
          "output_type": "stream",
          "name": "stdout",
          "text": [
            "Accuracy: 0.9914605044363488\n",
            "Recall Score: 0.9914605044363488\n",
            "Precision Score: 0.9916140804168637\n",
            "F1 Score: 0.9914954424252217\n",
            "ROC AUC Score: 0.9921938689724529\n"
          ]
        }
      ]
    },
    {
      "cell_type": "markdown",
      "metadata": {
        "id": "CXi8qtG5kPS3"
      },
      "source": [
        "**SVM**"
      ]
    },
    {
      "cell_type": "code",
      "metadata": {
        "colab": {
          "base_uri": "https://localhost:8080/"
        },
        "id": "vUbjre0_kNJE",
        "outputId": "63023b46-1ab0-492c-a58d-0e37f267183b"
      },
      "source": [
        "from sklearn.svm import SVC\n",
        "svc = SVC()\n",
        "\n",
        "svc.fit(X_train, y_train)"
      ],
      "execution_count": null,
      "outputs": [
        {
          "output_type": "execute_result",
          "data": {
            "text/plain": [
              "SVC()"
            ]
          },
          "metadata": {},
          "execution_count": 64
        }
      ]
    },
    {
      "cell_type": "code",
      "metadata": {
        "colab": {
          "base_uri": "https://localhost:8080/"
        },
        "id": "s38MNZYWkcPv",
        "outputId": "2fba8523-acd2-432d-8aaa-c0ee15501fe7"
      },
      "source": [
        "ypred_svc = svc.predict(X_test)\n",
        "print (ypred_svc)"
      ],
      "execution_count": null,
      "outputs": [
        {
          "output_type": "stream",
          "name": "stdout",
          "text": [
            "[1 0 0 ... 1 0 0]\n"
          ]
        }
      ]
    },
    {
      "cell_type": "code",
      "metadata": {
        "colab": {
          "base_uri": "https://localhost:8080/"
        },
        "id": "HXyxmlnpkcRR",
        "outputId": "10b8b00d-2444-4ce4-df61-4c9e060f9447"
      },
      "source": [
        "svc_acc = accuracy_score(y_test, ypred_svc)\n",
        "print(\"Accuracy: {}\".format(svc_acc))\n",
        "#Recall score\n",
        "print(\"Recall Score: {}\".format(recall_score(y_test, ypred_svc, average='weighted')))\n",
        "#Precision Score\n",
        "print('Precision Score: {}'.format(precision_score(y_test, ypred_svc, average='weighted')))\n",
        "#F1 Score\n",
        "print('F1 Score: {}'.format(f1_score(y_test, ypred_svc, average='weighted')))\n",
        "# ROC AUC Score\n",
        "print('ROC AUC Score: {}'.format(roc_auc_score(y_test, ypred_svc, average='weighted')))"
      ],
      "execution_count": null,
      "outputs": [
        {
          "output_type": "stream",
          "name": "stdout",
          "text": [
            "Accuracy: 0.9839079219608788\n",
            "Recall Score: 0.9839079219608788\n",
            "Precision Score: 0.9840997861206727\n",
            "F1 Score: 0.9837330732573419\n",
            "ROC AUC Score: 0.9670647754357057\n"
          ]
        }
      ]
    },
    {
      "cell_type": "code",
      "metadata": {
        "id": "DWqJBfPckcVB"
      },
      "source": [],
      "execution_count": null,
      "outputs": []
    },
    {
      "cell_type": "markdown",
      "metadata": {
        "id": "wDwRkXs8ZcLf"
      },
      "source": [
        "**Decision Tree**"
      ]
    },
    {
      "cell_type": "code",
      "metadata": {
        "id": "RvACgTemZcLf"
      },
      "source": [],
      "execution_count": null,
      "outputs": []
    },
    {
      "cell_type": "code",
      "metadata": {
        "colab": {
          "base_uri": "https://localhost:8080/"
        },
        "id": "YNyPnglfZcLf",
        "outputId": "92a7d003-2a41-47c2-88c8-28d400fa100c"
      },
      "source": [
        "from sklearn.tree import DecisionTreeClassifier\n",
        "\n",
        "dt = DecisionTreeClassifier(random_state=10)\n",
        "dt.fit(X_train,y_train)"
      ],
      "execution_count": null,
      "outputs": [
        {
          "output_type": "execute_result",
          "data": {
            "text/plain": [
              "DecisionTreeClassifier(random_state=10)"
            ]
          },
          "metadata": {},
          "execution_count": 31
        }
      ]
    },
    {
      "cell_type": "code",
      "metadata": {
        "colab": {
          "base_uri": "https://localhost:8080/"
        },
        "id": "q3Fl05nwZcLg",
        "outputId": "30cf20bb-6cb7-4839-fd5e-6e19a6d6ceb9"
      },
      "source": [
        "ypred_dt = dt.predict(X_test)\n",
        "print (ypred_dt)"
      ],
      "execution_count": null,
      "outputs": [
        {
          "output_type": "stream",
          "name": "stdout",
          "text": [
            "[1 0 0 ... 1 0 0]\n"
          ]
        }
      ]
    },
    {
      "cell_type": "code",
      "metadata": {
        "colab": {
          "base_uri": "https://localhost:8080/"
        },
        "id": "4GVuKSzWZcLg",
        "outputId": "84609a37-4951-456c-9991-5871544ad57c"
      },
      "source": [
        "dt_acc = accuracy_score(y_test, ypred_dt)\n",
        "print(\"Accuracy: {}\".format(dt_acc))\n",
        "#Recall score\n",
        "print(\"Recall Score: {}\".format(recall_score(y_test, ypred_dt, average='weighted')))\n",
        "#Precision Score\n",
        "print('Precision Score: {}'.format(precision_score(y_test, ypred_dt, average='weighted')))\n",
        "#F1 Score\n",
        "print('F1 Score: {}'.format(f1_score(y_test, ypred_dt, average='weighted')))\n",
        "# ROC AUC Score\n",
        "print('ROC AUC Score: {}'.format(roc_auc_score(y_test, ypred_dt, average='weighted')))"
      ],
      "execution_count": null,
      "outputs": [
        {
          "output_type": "stream",
          "name": "stdout",
          "text": [
            "Accuracy: 0.9955953846739696\n",
            "Recall Score: 0.9955953846739696\n",
            "Precision Score: 0.9955950157626765\n",
            "F1 Score: 0.9955951956787061\n",
            "ROC AUC Score: 0.9937806799012485\n"
          ]
        }
      ]
    },
    {
      "cell_type": "markdown",
      "metadata": {
        "id": "-Ako6SDeZcLh"
      },
      "source": [
        "**Random Forest**"
      ]
    },
    {
      "cell_type": "code",
      "metadata": {
        "colab": {
          "base_uri": "https://localhost:8080/"
        },
        "id": "zAjWaKjqZcLi",
        "outputId": "046a2711-dbdd-498c-ac3a-5ae00182b321"
      },
      "source": [
        "from sklearn.ensemble import RandomForestClassifier\n",
        "\n",
        "rf = RandomForestClassifier(random_state=323)\n",
        "rf.fit(X_train,y_train)"
      ],
      "execution_count": null,
      "outputs": [
        {
          "output_type": "execute_result",
          "data": {
            "text/plain": [
              "RandomForestClassifier(random_state=323)"
            ]
          },
          "metadata": {},
          "execution_count": 34
        }
      ]
    },
    {
      "cell_type": "code",
      "metadata": {
        "colab": {
          "base_uri": "https://localhost:8080/"
        },
        "id": "GuOc7Eo3ZcLj",
        "outputId": "b36f901f-ac0c-4fd0-b0ae-63e3906cbcb0"
      },
      "source": [
        "ypred_rf = rf.predict(X_test)\n",
        "print (ypred_rf)"
      ],
      "execution_count": null,
      "outputs": [
        {
          "output_type": "stream",
          "name": "stdout",
          "text": [
            "[1 0 0 ... 1 0 0]\n"
          ]
        }
      ]
    },
    {
      "cell_type": "code",
      "metadata": {
        "colab": {
          "base_uri": "https://localhost:8080/"
        },
        "id": "c97G51eZZcLk",
        "outputId": "9bff6853-11c3-41a8-8dde-6fe1b6e10196"
      },
      "source": [
        "rf_acc = accuracy_score(y_test, ypred_rf)\n",
        "print(\"Accuracy: {}\".format(rf_acc))\n",
        "#Recall score\n",
        "print(\"Recall Score: {}\".format(recall_score(y_test, ypred_rf, average='weighted')))\n",
        "#Precision Score\n",
        "print('Precision Score: {}'.format(precision_score(y_test, ypred_rf, average='weighted')))\n",
        "#F1 Score\n",
        "print('F1 Score: {}'.format(f1_score(y_test, ypred_rf, average='weighted')))\n",
        "# ROC AUC Score\n",
        "print('ROC AUC Score: {}'.format(roc_auc_score(y_test, ypred_rf, average='weighted')))"
      ],
      "execution_count": null,
      "outputs": [
        {
          "output_type": "stream",
          "name": "stdout",
          "text": [
            "Accuracy: 0.9972487020982217\n",
            "Recall Score: 0.9972487020982217\n",
            "Precision Score: 0.9972472418038443\n",
            "F1 Score: 0.9972468275658526\n",
            "ROC AUC Score: 0.9954627092755882\n"
          ]
        }
      ]
    },
    {
      "cell_type": "markdown",
      "metadata": {
        "id": "oobmV_SYZcLk"
      },
      "source": [
        "**LDA**"
      ]
    },
    {
      "cell_type": "code",
      "metadata": {
        "colab": {
          "base_uri": "https://localhost:8080/"
        },
        "id": "6kM9TKe_ZcLl",
        "outputId": "8a9e7792-c877-4131-99b2-339f0f2cda1e"
      },
      "source": [
        "from sklearn.discriminant_analysis import LinearDiscriminantAnalysis\n",
        "lda = LinearDiscriminantAnalysis()\n",
        "lda.fit(X_train,y_train)"
      ],
      "execution_count": null,
      "outputs": [
        {
          "output_type": "execute_result",
          "data": {
            "text/plain": [
              "LinearDiscriminantAnalysis()"
            ]
          },
          "metadata": {},
          "execution_count": 37
        }
      ]
    },
    {
      "cell_type": "code",
      "metadata": {
        "colab": {
          "base_uri": "https://localhost:8080/"
        },
        "id": "JnLIWK_jZcLm",
        "outputId": "813fa623-0c60-4498-986e-b53000c7551a"
      },
      "source": [
        "ypred_lda = lda.predict(X_test)\n",
        "print(ypred_lda)"
      ],
      "execution_count": null,
      "outputs": [
        {
          "output_type": "stream",
          "name": "stdout",
          "text": [
            "[1 0 0 ... 1 0 0]\n"
          ]
        }
      ]
    },
    {
      "cell_type": "code",
      "metadata": {
        "colab": {
          "base_uri": "https://localhost:8080/"
        },
        "id": "agYfMn2kZcLm",
        "outputId": "b665834f-792a-4973-fac8-d6d27bd1aa14"
      },
      "source": [
        "lda_acc = accuracy_score(ypred_lda, y_test)\n",
        "print(\"Accuracy: {}\".format(lda_acc))\n",
        "#Recall score\n",
        "print(\"Recall Score: {}\".format(recall_score(y_test, ypred_lda, average='weighted')))\n",
        "#Precision Score\n",
        "print('Precision Score: {}'.format(precision_score(y_test, ypred_lda, average='weighted')))\n",
        "#F1 Score\n",
        "print('F1 Score: {}'.format(f1_score(y_test, ypred_lda, average='weighted')))\n",
        "# ROC AUC Score\n",
        "print('ROC AUC Score: {}'.format(roc_auc_score(y_test, ypred_lda, average='weighted')))"
      ],
      "execution_count": null,
      "outputs": [
        {
          "output_type": "stream",
          "name": "stdout",
          "text": [
            "Accuracy: 0.9843997918279789\n",
            "Recall Score: 0.9843997918279789\n",
            "Precision Score: 0.9847100307081644\n",
            "F1 Score: 0.9842071894560006\n",
            "ROC AUC Score: 0.9664126822854288\n"
          ]
        }
      ]
    },
    {
      "cell_type": "markdown",
      "metadata": {
        "id": "JriMQpAfZcLn"
      },
      "source": [
        "**ANN**"
      ]
    },
    {
      "cell_type": "code",
      "metadata": {
        "id": "OXITsxjDZcLn"
      },
      "source": [],
      "execution_count": null,
      "outputs": []
    },
    {
      "cell_type": "code",
      "metadata": {
        "id": "6OqUG3EPZcLo"
      },
      "source": [
        "from keras.models import Sequential\n",
        "from keras.layers import Dense"
      ],
      "execution_count": null,
      "outputs": []
    },
    {
      "cell_type": "code",
      "metadata": {
        "id": "MrhC1EbyZcLo"
      },
      "source": [
        "model = Sequential()\n",
        "model.add(Dense(16,activation='relu',input_dim=17))\n",
        "model.add(Dense(1,activation='sigmoid'))\n",
        "#optimizer=adam\n",
        "model.compile(loss='binary_crossentropy',optimizer='adam',metrics=['accuracy'])"
      ],
      "execution_count": null,
      "outputs": []
    },
    {
      "cell_type": "code",
      "metadata": {
        "colab": {
          "base_uri": "https://localhost:8080/"
        },
        "id": "2w3UoArmZcLp",
        "outputId": "443b061c-e1c2-40be-fb86-803de338f22b"
      },
      "source": [
        "model.fit(X_train,y_train,epochs=10)"
      ],
      "execution_count": null,
      "outputs": [
        {
          "output_type": "stream",
          "name": "stdout",
          "text": [
            "Epoch 1/10\n",
            "4221/4221 [==============================] - 7s 2ms/step - loss: 0.1646 - accuracy: 0.9483\n",
            "Epoch 2/10\n",
            "4221/4221 [==============================] - 6s 2ms/step - loss: 0.0252 - accuracy: 0.9943\n",
            "Epoch 3/10\n",
            "4221/4221 [==============================] - 6s 2ms/step - loss: 0.0215 - accuracy: 0.9955\n",
            "Epoch 4/10\n",
            "4221/4221 [==============================] - 6s 2ms/step - loss: 0.0207 - accuracy: 0.9956\n",
            "Epoch 5/10\n",
            "4221/4221 [==============================] - 7s 2ms/step - loss: 0.0201 - accuracy: 0.9957\n",
            "Epoch 6/10\n",
            "4221/4221 [==============================] - 7s 2ms/step - loss: 0.0197 - accuracy: 0.9958\n",
            "Epoch 7/10\n",
            "4221/4221 [==============================] - 7s 2ms/step - loss: 0.0192 - accuracy: 0.9960\n",
            "Epoch 8/10\n",
            "4221/4221 [==============================] - 6s 2ms/step - loss: 0.0193 - accuracy: 0.9960\n",
            "Epoch 9/10\n",
            "4221/4221 [==============================] - 6s 1ms/step - loss: 0.0192 - accuracy: 0.9959\n",
            "Epoch 10/10\n",
            "4221/4221 [==============================] - 6s 2ms/step - loss: 0.0189 - accuracy: 0.9960\n"
          ]
        },
        {
          "output_type": "execute_result",
          "data": {
            "text/plain": [
              "<keras.callbacks.History at 0x7f7263ba4b90>"
            ]
          },
          "metadata": {},
          "execution_count": 42
        }
      ]
    },
    {
      "cell_type": "code",
      "metadata": {
        "id": "Dn-Y7n64ZcLp"
      },
      "source": [
        "Y_pred_nn_o1 = model.predict(X_test)"
      ],
      "execution_count": null,
      "outputs": []
    },
    {
      "cell_type": "code",
      "metadata": {
        "id": "m-2icrf5ZcLq"
      },
      "source": [
        "rounded = [round(x[0]) for x in Y_pred_nn_o1]\n",
        "\n",
        "Y_pred_nn_o1 = rounded"
      ],
      "execution_count": null,
      "outputs": []
    },
    {
      "cell_type": "code",
      "metadata": {
        "colab": {
          "base_uri": "https://localhost:8080/"
        },
        "id": "q59fQYt2ZcLq",
        "outputId": "26cdfd15-eccc-459b-b517-d867fc973765"
      },
      "source": [
        "nn_o1_acc = round(accuracy_score(Y_pred_nn_o1,y_test)*100,2)\n",
        "\n",
        "print(\"The accuracy score achieved using Neural Network(Optimizer=Adam) is: \"+str(nn_o1_acc)+\" %\")"
      ],
      "execution_count": null,
      "outputs": [
        {
          "output_type": "stream",
          "name": "stdout",
          "text": [
            "The accuracy score achieved using Neural Network(Optimizer=Adam) is: 99.53 %\n"
          ]
        }
      ]
    },
    {
      "cell_type": "code",
      "metadata": {
        "colab": {
          "base_uri": "https://localhost:8080/"
        },
        "id": "clq5IodjZcLr",
        "outputId": "6389ac78-5009-47c1-cf12-37973dc3d877"
      },
      "source": [
        "#Recall score\n",
        "print(\"Recall Score: {}\".format(recall_score(y_test,Y_pred_nn_o1,average='weighted')))\n",
        "#Precision Score\n",
        "print('Precision Score: {}'.format(precision_score(y_test,Y_pred_nn_o1,average='weighted')))\n",
        "#F1 Score\n",
        "print('F1 Score: {}'.format(f1_score(y_test,Y_pred_nn_o1,average='weighted')))\n",
        "# ROC AUC Score\n",
        "print('ROC AUC Score: {}'.format(roc_auc_score(y_test,Y_pred_nn_o1,average='weighted')))"
      ],
      "execution_count": null,
      "outputs": [
        {
          "output_type": "stream",
          "name": "stdout",
          "text": [
            "Recall Score: 0.99532564958556\n",
            "Precision Score: 0.9953212416014391\n",
            "F1 Score: 0.995320735850816\n",
            "ROC AUC Score: 0.9923990528332716\n"
          ]
        }
      ]
    },
    {
      "cell_type": "code",
      "metadata": {
        "id": "-l8XZpOFZcLr"
      },
      "source": [],
      "execution_count": null,
      "outputs": []
    },
    {
      "cell_type": "code",
      "metadata": {
        "id": "38AjpPhzZcLs"
      },
      "source": [
        "model = Sequential()\n",
        "model.add(Dense(16,activation='relu',input_dim=17))\n",
        "model.add(Dense(1,activation='sigmoid'))\n",
        "#optimizer=Adamax\n",
        "model.compile(loss='binary_crossentropy',optimizer='Adamax',metrics=['accuracy'])"
      ],
      "execution_count": null,
      "outputs": []
    },
    {
      "cell_type": "code",
      "metadata": {
        "colab": {
          "base_uri": "https://localhost:8080/"
        },
        "id": "K9_Czkg4ZcLs",
        "outputId": "555ebaa5-3844-4e84-a423-1475bd75bb76"
      },
      "source": [
        "model.fit(X_train, y_train,epochs=10)"
      ],
      "execution_count": null,
      "outputs": [
        {
          "output_type": "stream",
          "name": "stdout",
          "text": [
            "Epoch 1/10\n",
            "4221/4221 [==============================] - 7s 2ms/step - loss: 0.3149 - accuracy: 0.9095\n",
            "Epoch 2/10\n",
            "4221/4221 [==============================] - 7s 2ms/step - loss: 0.0404 - accuracy: 0.9911\n",
            "Epoch 3/10\n",
            "4221/4221 [==============================] - 7s 2ms/step - loss: 0.0299 - accuracy: 0.9938\n",
            "Epoch 4/10\n",
            "4221/4221 [==============================] - 7s 2ms/step - loss: 0.0260 - accuracy: 0.9946\n",
            "Epoch 5/10\n",
            "4221/4221 [==============================] - 7s 2ms/step - loss: 0.0239 - accuracy: 0.9952\n",
            "Epoch 6/10\n",
            "4221/4221 [==============================] - 7s 2ms/step - loss: 0.0226 - accuracy: 0.9954\n",
            "Epoch 7/10\n",
            "4221/4221 [==============================] - 7s 2ms/step - loss: 0.0217 - accuracy: 0.9954\n",
            "Epoch 8/10\n",
            "4221/4221 [==============================] - 7s 2ms/step - loss: 0.0212 - accuracy: 0.9955\n",
            "Epoch 9/10\n",
            "4221/4221 [==============================] - 7s 2ms/step - loss: 0.0207 - accuracy: 0.9956\n",
            "Epoch 10/10\n",
            "4221/4221 [==============================] - 7s 2ms/step - loss: 0.0204 - accuracy: 0.9957\n"
          ]
        },
        {
          "output_type": "execute_result",
          "data": {
            "text/plain": [
              "<keras.callbacks.History at 0x7f72622e9d10>"
            ]
          },
          "metadata": {},
          "execution_count": 48
        }
      ]
    },
    {
      "cell_type": "code",
      "metadata": {
        "id": "vULN7Ou9ZcLt"
      },
      "source": [
        "Y_pred_nn_o2 = model.predict(X_test)"
      ],
      "execution_count": null,
      "outputs": []
    },
    {
      "cell_type": "code",
      "metadata": {
        "id": "RmN55xrIZcLt"
      },
      "source": [
        "rounded = [round(x[0]) for x in Y_pred_nn_o2]\n",
        "\n",
        "Y_pred_nn_o2 = rounded"
      ],
      "execution_count": null,
      "outputs": []
    },
    {
      "cell_type": "code",
      "metadata": {
        "colab": {
          "base_uri": "https://localhost:8080/"
        },
        "id": "jyeTsQlRZcLt",
        "outputId": "de46df0c-ba54-4b84-b6b9-7b9ea54052ed"
      },
      "source": [
        "nn_o2_acc = round(accuracy_score(Y_pred_nn_o2,y_test)*100,2)\n",
        "\n",
        "print(\"The accuracy score achieved using Neural Network(optimizer=Adamax) is: \"+str(nn_o2_acc)+\" %\")"
      ],
      "execution_count": null,
      "outputs": [
        {
          "output_type": "stream",
          "name": "stdout",
          "text": [
            "The accuracy score achieved using Neural Network(optimizer=Adamax) is: 99.55 %\n"
          ]
        }
      ]
    },
    {
      "cell_type": "code",
      "metadata": {
        "colab": {
          "base_uri": "https://localhost:8080/"
        },
        "id": "dnUfIOw1ZcLt",
        "outputId": "02846fed-3d82-4de6-a90b-3870799079e0"
      },
      "source": [
        "#Recall score\n",
        "print(\"Recall Score: {}\".format(recall_score(y_test,Y_pred_nn_o2,average='weighted')))\n",
        "#Precision Score\n",
        "print('Precision Score: {}'.format(precision_score(y_test,Y_pred_nn_o2,average='weighted')))\n",
        "#F1 Score\n",
        "print('F1 Score: {}'.format(f1_score(y_test,Y_pred_nn_o2,average='weighted')))\n",
        "# ROC AUC Score\n",
        "print('ROC AUC Score: {}'.format(roc_auc_score(y_test,Y_pred_nn_o2,average='weighted')))"
      ],
      "execution_count": null,
      "outputs": [
        {
          "output_type": "stream",
          "name": "stdout",
          "text": [
            "Recall Score: 0.9955097041164748\n",
            "Precision Score: 0.995507349503937\n",
            "F1 Score: 0.9955082787351395\n",
            "ROC AUC Score: 0.9933864487700332\n"
          ]
        }
      ]
    },
    {
      "cell_type": "code",
      "metadata": {
        "id": "DCqIavjlZcLu"
      },
      "source": [],
      "execution_count": null,
      "outputs": []
    },
    {
      "cell_type": "code",
      "metadata": {
        "id": "5DG0P1XPZcLu"
      },
      "source": [
        "model = Sequential()\n",
        "model.add(Dense(16,activation='relu',input_dim=17))\n",
        "model.add(Dense(1,activation='sigmoid'))\n",
        "#optimizer=Nadam\n",
        "model.compile(loss='binary_crossentropy',optimizer='Nadam',metrics=['accuracy'])"
      ],
      "execution_count": null,
      "outputs": []
    },
    {
      "cell_type": "code",
      "metadata": {
        "colab": {
          "base_uri": "https://localhost:8080/"
        },
        "id": "bqlIKszUZcLu",
        "outputId": "2f4a5ba9-b629-4744-86fd-b7b9a3597334"
      },
      "source": [
        "model.fit(X_train, y_train, epochs=10)"
      ],
      "execution_count": null,
      "outputs": [
        {
          "output_type": "stream",
          "name": "stdout",
          "text": [
            "Epoch 1/10\n",
            "4221/4221 [==============================] - 8s 2ms/step - loss: 0.2524 - accuracy: 0.9407\n",
            "Epoch 2/10\n",
            "4221/4221 [==============================] - 7s 2ms/step - loss: 0.0286 - accuracy: 0.9941\n",
            "Epoch 3/10\n",
            "4221/4221 [==============================] - 7s 2ms/step - loss: 0.0225 - accuracy: 0.9954\n",
            "Epoch 4/10\n",
            "4221/4221 [==============================] - 7s 2ms/step - loss: 0.0209 - accuracy: 0.9956\n",
            "Epoch 5/10\n",
            "4221/4221 [==============================] - 7s 2ms/step - loss: 0.0209 - accuracy: 0.9957\n",
            "Epoch 6/10\n",
            "4221/4221 [==============================] - 7s 2ms/step - loss: 0.0203 - accuracy: 0.9957\n",
            "Epoch 7/10\n",
            "4221/4221 [==============================] - 7s 2ms/step - loss: 0.0200 - accuracy: 0.9959\n",
            "Epoch 8/10\n",
            "4221/4221 [==============================] - 7s 2ms/step - loss: 0.0199 - accuracy: 0.9959\n",
            "Epoch 9/10\n",
            "4221/4221 [==============================] - 7s 2ms/step - loss: 0.0193 - accuracy: 0.9960\n",
            "Epoch 10/10\n",
            "4221/4221 [==============================] - 7s 2ms/step - loss: 0.0191 - accuracy: 0.9961\n"
          ]
        },
        {
          "output_type": "execute_result",
          "data": {
            "text/plain": [
              "<keras.callbacks.History at 0x7f72634f8e10>"
            ]
          },
          "metadata": {},
          "execution_count": 54
        }
      ]
    },
    {
      "cell_type": "code",
      "metadata": {
        "id": "HtYmKnfyZcLv"
      },
      "source": [
        "Y_pred_nn_o3 = model.predict(X_test)"
      ],
      "execution_count": null,
      "outputs": []
    },
    {
      "cell_type": "code",
      "metadata": {
        "id": "9tq7d4X7ZcLv"
      },
      "source": [
        "rounded = [round(x[0]) for x in Y_pred_nn_o3]\n",
        "\n",
        "Y_pred_nn_o3 = rounded"
      ],
      "execution_count": null,
      "outputs": []
    },
    {
      "cell_type": "code",
      "metadata": {
        "colab": {
          "base_uri": "https://localhost:8080/"
        },
        "id": "P3_SVgxzZcLv",
        "outputId": "a5fcf831-d945-433f-e3cf-c3e058c724f9"
      },
      "source": [
        "nn_o3_acc = round(accuracy_score(Y_pred_nn_o3,y_test)*100,2)\n",
        "\n",
        "print(\"The accuracy score achieved using Neural Network(optimizer=Nadam) is: \"+str(nn_o3_acc)+\" %\")"
      ],
      "execution_count": null,
      "outputs": [
        {
          "output_type": "stream",
          "name": "stdout",
          "text": [
            "The accuracy score achieved using Neural Network(optimizer=Nadam) is: 99.51 %\n"
          ]
        }
      ]
    },
    {
      "cell_type": "code",
      "metadata": {
        "colab": {
          "base_uri": "https://localhost:8080/"
        },
        "id": "25gDkAdBZcLv",
        "outputId": "37fdfce7-3904-4937-94a2-3f3bb63302c5"
      },
      "source": [
        "#Recall score\n",
        "print(\"Recall Score: {}\".format(recall_score(y_test,Y_pred_nn_o3,average='weighted')))\n",
        "#Precision Score\n",
        "print('Precision Score: {}'.format(precision_score(y_test,Y_pred_nn_o3,average='weighted')))\n",
        "#F1 Score\n",
        "print('F1 Score: {}'.format(f1_score(y_test,Y_pred_nn_o3,average='weighted')))\n",
        "# ROC AUC Score\n",
        "print('ROC AUC Score: {}'.format(roc_auc_score(y_test,Y_pred_nn_o3,average='weighted')))"
      ],
      "execution_count": null,
      "outputs": [
        {
          "output_type": "stream",
          "name": "stdout",
          "text": [
            "Recall Score: 0.9950813013290006\n",
            "Precision Score: 0.9950929615759893\n",
            "F1 Score: 0.9950672203236733\n",
            "ROC AUC Score: 0.9902760543714743\n"
          ]
        }
      ]
    },
    {
      "cell_type": "code",
      "metadata": {
        "id": "6beouR2TZcLw"
      },
      "source": [],
      "execution_count": null,
      "outputs": []
    },
    {
      "cell_type": "markdown",
      "metadata": {
        "id": "X_kK4zVh4Ifz"
      },
      "source": [
        "**AdaBoostClassifier**"
      ]
    },
    {
      "cell_type": "code",
      "metadata": {
        "id": "mZi22ruBtjfx",
        "colab": {
          "base_uri": "https://localhost:8080/"
        },
        "outputId": "2b3b1b00-7645-4b20-dfec-b6fd2ecf46f6"
      },
      "source": [
        "from sklearn.ensemble import AdaBoostClassifier\n",
        "abc = AdaBoostClassifier()\n",
        "abc.fit(X_train,y_train)"
      ],
      "execution_count": null,
      "outputs": [
        {
          "output_type": "execute_result",
          "data": {
            "text/plain": [
              "AdaBoostClassifier()"
            ]
          },
          "metadata": {},
          "execution_count": 59
        }
      ]
    },
    {
      "cell_type": "code",
      "metadata": {
        "id": "cHUgyfG-4PQG"
      },
      "source": [
        "ypred_ada = abc.predict(X_test)"
      ],
      "execution_count": null,
      "outputs": []
    },
    {
      "cell_type": "code",
      "metadata": {
        "colab": {
          "base_uri": "https://localhost:8080/"
        },
        "id": "SpdU0mS_tyWH",
        "outputId": "c0002a16-52aa-4f8b-e4ec-68751b29975c"
      },
      "source": [
        "ada_acc = accuracy_score(ypred_ada, y_test)\n",
        "print(\"Accuracy: {}\".format(ada_acc))\n",
        "#Recall score\n",
        "from sklearn.metrics import recall_score\n",
        "print(\"Recall Score: {}\".format(recall_score(ypred_ada, y_test, average='weighted')))\n",
        "#Precision Score\n",
        "from sklearn.metrics import precision_score\n",
        "print('Precision Score: {}'.format(precision_score(ypred_ada, y_test, average='weighted')))\n",
        "#F1 Score\n",
        "from sklearn.metrics import f1_score\n",
        "print('F1 Score: {}'.format(f1_score(ypred_ada, y_test, average='weighted')))\n",
        "# ROC AUC Score\n",
        "from sklearn.metrics import roc_auc_score\n",
        "print('ROC AUC Score: {}'.format(roc_auc_score(ypred_ada, y_test, average='weighted')))"
      ],
      "execution_count": null,
      "outputs": [
        {
          "output_type": "stream",
          "name": "stdout",
          "text": [
            "Accuracy: 0.9963982432312359\n",
            "Recall Score: 0.9963982432312359\n",
            "Precision Score: 0.9963991125352794\n",
            "F1 Score: 0.9963986468927364\n",
            "ROC AUC Score: 0.9950592624543938\n"
          ]
        }
      ]
    },
    {
      "cell_type": "code",
      "metadata": {
        "id": "AZC1n-szZcLw"
      },
      "source": [],
      "execution_count": null,
      "outputs": []
    },
    {
      "cell_type": "code",
      "metadata": {
        "colab": {
          "base_uri": "https://localhost:8080/"
        },
        "id": "CzzstFx3ZcLw",
        "outputId": "f593adc6-6161-4168-eaea-bb204bf9579a"
      },
      "source": [
        "scores = [lr_acc*100, nb_acc*100, svc_acc*100, dt_acc*100, rf_acc*100,\n",
        "          lda_acc*100, nn_o1_acc, nn_o2_acc, nn_o3_acc, ada_acc*100]\n",
        "algorithms = [\"Logistic Regression\", \"Naive Bayes\", \"SVM\", \"Decision Tree\", \"Random Forest\",\n",
        "              \"LDA\", \"ANN(Adam)\", \"ANN(Adamax)\", \"ANN(Nadam)\", \"AdaBoost\"]\n",
        "\n",
        "for i in range(len(algorithms)):\n",
        "    print(\"The accuracy score achieved using \"+algorithms[i]+\" is: \"+str(scores[i])+\" %\")"
      ],
      "execution_count": null,
      "outputs": [
        {
          "output_type": "stream",
          "name": "stdout",
          "text": [
            "The accuracy score achieved using Logistic Regression is: 99.57730924969218 %\n",
            "The accuracy score achieved using Naive Bayes is: 99.14605044363488 %\n",
            "The accuracy score achieved using SVM is: 98.39079219608789 %\n",
            "The accuracy score achieved using Decision Tree is: 99.55953846739696 %\n",
            "The accuracy score achieved using Random Forest is: 99.72487020982217 %\n",
            "The accuracy score achieved using LDA is: 98.43997918279788 %\n",
            "The accuracy score achieved using ANN(Adam) is: 99.53 %\n",
            "The accuracy score achieved using ANN(Adamax) is: 99.55 %\n",
            "The accuracy score achieved using ANN(Nadam) is: 99.51 %\n",
            "The accuracy score achieved using AdaBoost is: 99.63982432312359 %\n"
          ]
        }
      ]
    },
    {
      "cell_type": "code",
      "metadata": {
        "colab": {
          "base_uri": "https://localhost:8080/",
          "height": 827
        },
        "id": "e16p9BB4ZcLx",
        "outputId": "0db04865-e154-4e0f-b02c-349642bd1bcc"
      },
      "source": [
        "#Plot of Accuracy Score for different models\n",
        "fig = plt.figure()\n",
        "fig.patch.set_facecolor('grey')\n",
        "\n",
        "sns.set(rc={'figure.figsize':(25,15)})\n",
        "plt.xlabel(\"Algorithms\")\n",
        "plt.ylabel(\"Accuracy score\")\n",
        "\n",
        "\n",
        "plt.title(\"Comparative Analysis\", fontsize=15)\n",
        "\n",
        "sns.barplot(algorithms,scores)\n",
        "plt.show()"
      ],
      "execution_count": null,
      "outputs": [
        {
          "output_type": "stream",
          "name": "stderr",
          "text": [
            "/usr/local/lib/python3.7/dist-packages/seaborn/_decorators.py:43: FutureWarning: Pass the following variables as keyword args: x, y. From version 0.12, the only valid positional argument will be `data`, and passing other arguments without an explicit keyword will result in an error or misinterpretation.\n",
            "  FutureWarning\n"
          ]
        },
        {
          "output_type": "display_data",
          "data": {
            "image/png": "[encoded data removed]",
            "text/plain": [
              "<Figure size 1800x1080 with 1 Axes>"
            ]
          },
          "metadata": {}
        }
      ]
    },
    {
      "cell_type": "code",
      "metadata": {
        "id": "WGYjkR5tZcLx",
        "colab": {
          "base_uri": "https://localhost:8080/",
          "height": 868
        },
        "outputId": "c4e4163c-6df3-4125-8606-dda37bd5739c"
      },
      "source": [
        "from sklearn.metrics import confusion_matrix\n",
        "\n",
        "cm_lr = confusion_matrix(y_test, ypred_lr)\n",
        "cm_nb = confusion_matrix(y_test, ypred_nb)\n",
        "cm_svm = confusion_matrix(y_test, ypred_svc)\n",
        "cm_dt = confusion_matrix(y_test, ypred_dt)\n",
        "cm_rf = confusion_matrix(y_test, ypred_rf)\n",
        "cm_lda = confusion_matrix(y_test, ypred_lda)\n",
        "cm_nn_o1 = confusion_matrix(y_test, Y_pred_nn_o1)\n",
        "cm_nn_o2 = confusion_matrix(y_test, Y_pred_nn_o2)\n",
        "cm_nn_o3 = confusion_matrix(y_test, Y_pred_nn_o3)\n",
        "cm_ada = confusion_matrix(y_test, ypred_ada)\n",
        "\n",
        "\n",
        "plt.figure(figsize=(30,70))\n",
        "#plt.rcParams['axes.facecolor'] = 'black'#plt.figure.patch.set_facecolor('black')\n",
        "fig = plt.figure()\n",
        "fig.patch.set_facecolor('grey')\n",
        "\n",
        "plt.suptitle(\"Confusion Matrices\",fontsize=30)\n",
        "plt.subplots_adjust(wspace = 0.4, hspace= 0.4)\n",
        "\n",
        "plt.subplot(4,3,1)\n",
        "plt.title(\"Logistic Regression Confusion Matrix\")\n",
        "sns.heatmap(cm_lr,annot=True,cmap=\"gist_gray\",fmt=\"d\",cbar=False, annot_kws={\"size\": 24})\n",
        "\n",
        "plt.subplot(4,3,2)\n",
        "plt.title(\"Naive Bayes Confusion Matrix\")\n",
        "sns.heatmap(cm_nb,annot=True,cmap=\"gist_gray\",fmt=\"d\",cbar=False, annot_kws={\"size\": 24})\n",
        "\n",
        "plt.subplot(4,3,3)\n",
        "plt.title(\"SVM Neighbours Confusion Matrix\")\n",
        "sns.heatmap(cm_svm,annot=True,cmap=\"gist_gray\",fmt=\"d\",cbar=False, annot_kws={\"size\": 24})\n",
        "\n",
        "plt.subplot(4,3,4)\n",
        "plt.title(\"Desicion Tree Confusion Matrix\")\n",
        "sns.heatmap(cm_dt,annot=True,cmap=\"gist_gray\",fmt=\"d\",cbar=False, annot_kws={\"size\": 24})\n",
        "\n",
        "plt.subplot(4,3,5)\n",
        "plt.title(\"Random Forest Confusion Matrix\")\n",
        "sns.heatmap(cm_rf,annot=True,cmap=\"gist_gray\",fmt=\"d\",cbar=False, annot_kws={\"size\": 24})\n",
        "\n",
        "plt.subplot(4,3,6)\n",
        "plt.title(\"Linear Discriminant Analysis Confusion Matrix\")\n",
        "sns.heatmap(cm_lda,annot=True,cmap=\"gist_gray\",fmt=\"d\",cbar=False, annot_kws={\"size\": 24})\n",
        "\n",
        "plt.subplot(4,3,7)\n",
        "plt.title(\"Neural Network(Adam) Confusion Matrix\")\n",
        "sns.heatmap(cm_nn_o1,annot=True,cmap=\"gist_gray\",fmt=\"d\",cbar=False, annot_kws={\"size\": 24})\n",
        "\n",
        "plt.subplot(4,3,8)\n",
        "plt.title(\"Neural Network(Adamax) Confusion Matrix\")\n",
        "sns.heatmap(cm_nn_o1,annot=True,cmap=\"gist_gray\",fmt=\"d\",cbar=False, annot_kws={\"size\": 24})\n",
        "\n",
        "plt.subplot(4,3,9)\n",
        "plt.title(\"Neural Network(Nadam) Confusion Matrix\")\n",
        "sns.heatmap(cm_nn_o1,annot=True,cmap=\"gist_gray\",fmt=\"d\",cbar=False, annot_kws={\"size\": 24})\n",
        "\n",
        "plt.subplot(4,3,11)\n",
        "plt.title(\"Ada Boost Classifier Confusion Matrix\")\n",
        "sns.heatmap(cm_ada,annot=True,cmap=\"gist_gray\",fmt=\"d\",cbar=False, annot_kws={\"size\": 24})\n",
        "plt.show()\n"
      ],
      "execution_count": null,
      "outputs": [
        {
          "output_type": "display_data",
          "data": {
            "text/plain": [
              "<Figure size 2160x5040 with 0 Axes>"
            ]
          },
          "metadata": {}
        },
        {
          "output_type": "display_data",
          "data": {
            "image/png": "[encoded data removed]",
            "text/plain": [
              "<Figure size 1800x1080 with 10 Axes>"
            ]
          },
          "metadata": {}
        }
      ]
    },
    {
      "cell_type": "code",
      "metadata": {
        "id": "afEQ4M9cFj_X"
      },
      "source": [],
      "execution_count": null,
      "outputs": []
    },
    {
      "cell_type": "code",
      "metadata": {
        "id": "2gHt1HfRFkAz"
      },
      "source": [],
      "execution_count": null,
      "outputs": []
    },
    {
      "cell_type": "code",
      "metadata": {
        "id": "hdyMgR7JFkEW"
      },
      "source": [],
      "execution_count": null,
      "outputs": []
    },
    {
      "cell_type": "code",
      "metadata": {
        "id": "CIUxYfQKFudD"
      },
      "source": [],
      "execution_count": null,
      "outputs": []
    },
    {
      "cell_type": "code",
      "metadata": {
        "id": "z5bLtKfbFkFX"
      },
      "source": [],
      "execution_count": null,
      "outputs": []
    },
    {
      "cell_type": "code",
      "metadata": {
        "id": "NKeTNnLlFkIC"
      },
      "source": [],
      "execution_count": null,
      "outputs": []
    },
    {
      "cell_type": "code",
      "metadata": {
        "id": "iPMcSZ2QFkJZ"
      },
      "source": [],
      "execution_count": null,
      "outputs": []
    },
    {
      "cell_type": "code",
      "metadata": {
        "id": "Kd4GxUqGFkMx"
      },
      "source": [],
      "execution_count": null,
      "outputs": []
    },
    {
      "cell_type": "code",
      "metadata": {
        "id": "6ar-iI8DFkOK"
      },
      "source": [],
      "execution_count": null,
      "outputs": []
    },
    {
      "cell_type": "code",
      "metadata": {
        "id": "ENyUdKDKFkSL"
      },
      "source": [],
      "execution_count": null,
      "outputs": []
    },
    {
      "cell_type": "code",
      "metadata": {
        "id": "E8F7ABP0FkU9"
      },
      "source": [],
      "execution_count": null,
      "outputs": []
    },
    {
      "cell_type": "code",
      "metadata": {
        "id": "uFMBuGduZcLx"
      },
      "source": [],
      "execution_count": null,
      "outputs": []
    }
  ]
}